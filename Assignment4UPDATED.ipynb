{
  "nbformat": 4,
  "nbformat_minor": 0,
  "metadata": {
    "colab": {
      "provenance": [],
      "toc_visible": true,
      "authorship_tag": "ABX9TyPNed6WEJ0G4lKLoB0iyWsv",
      "include_colab_link": true
    },
    "kernelspec": {
      "name": "python3",
      "display_name": "Python 3"
    },
    "language_info": {
      "name": "python"
    }
  },
  "cells": [
    {
      "cell_type": "markdown",
      "metadata": {
        "id": "view-in-github",
        "colab_type": "text"
      },
      "source": [
        "<a href=\"https://colab.research.google.com/github/adamBabieradzki/CSC221_ababi004/blob/main/Assignment4UPDATED.ipynb\" target=\"_parent\"><img src=\"https://colab.research.google.com/assets/colab-badge.svg\" alt=\"Open In Colab\"/></a>"
      ]
    },
    {
      "cell_type": "markdown",
      "source": [
        "#Example Set 1"
      ],
      "metadata": {
        "id": "9c-9x6f2tDSJ"
      }
    },
    {
      "cell_type": "code",
      "execution_count": 6,
      "metadata": {
        "colab": {
          "base_uri": "https://localhost:8080/"
        },
        "id": "JBoD0DCznaoy",
        "outputId": "05000da6-848b-4019-d5a2-131f8c5920ae"
      },
      "outputs": [
        {
          "output_type": "stream",
          "name": "stdout",
          "text": [
            "['trek', 'cannondale', 'redline', 'specialized']\n",
            "trek\n",
            "cannondale\n",
            "specialized\n",
            "specialized\n"
          ]
        }
      ],
      "source": [
        "bicycles = ['trek', 'cannondale', 'redline', 'specialized']\n",
        "print(bicycles)\n",
        "print(bicycles[0])\n",
        "print(bicycles[1])\n",
        "print(bicycles[3])\n",
        "print(bicycles[-1])"
      ]
    },
    {
      "cell_type": "code",
      "source": [
        "print(f'My first bicycles was a {bicycles[0]}.')"
      ],
      "metadata": {
        "colab": {
          "base_uri": "https://localhost:8080/"
        },
        "id": "VQrbMqj2nwj8",
        "outputId": "3944af2a-e75c-4f1d-8b84-07d1ead21520"
      },
      "execution_count": 2,
      "outputs": [
        {
          "output_type": "stream",
          "name": "stdout",
          "text": [
            "The bike is trek.\n"
          ]
        }
      ]
    },
    {
      "cell_type": "markdown",
      "source": [
        "#Exercise Set 1"
      ],
      "metadata": {
        "id": "dxMcTqwNtOkl"
      }
    },
    {
      "cell_type": "code",
      "source": [
        "#3-1\n",
        "friends = ['john','jill','bill','bohn']\n",
        "print(friends[0])\n",
        "print(friends[1])\n",
        "print(friends[2])\n",
        "print(friends[3])\n",
        "\n",
        "#3-2\n",
        "print(f'Hello {friends[0]} good to see you.')\n",
        "print(f'Hello {friends[1]} good to see you.')\n",
        "print(f'Hello {friends[2]} good to see you.')\n",
        "print(f'Hello {friends[3]} good to see you.')"
      ],
      "metadata": {
        "id": "gjUbFYYNtUcO",
        "outputId": "8ba6feaf-f0ff-4e2c-c4ca-aa52c552ad89",
        "colab": {
          "base_uri": "https://localhost:8080/"
        }
      },
      "execution_count": 8,
      "outputs": [
        {
          "output_type": "stream",
          "name": "stdout",
          "text": [
            "john\n",
            "jill\n",
            "bill\n",
            "bohn\n",
            "Hello john good to see you.\n",
            "Hello jill good to see you.\n",
            "Hello bill good to see you.\n",
            "Hello bohn good to see you.\n"
          ]
        }
      ]
    },
    {
      "cell_type": "code",
      "source": [
        "transport = [\"car\",\"bike\",\"train\"]\n",
        "print(f\"I'm used to using a {transport[1]}.\")\n",
        "print(f\"I'm not the best at driving a {transport[0]}.\")\n",
        "print(f\"I would love if I could take a {transport[2]}.\")"
      ],
      "metadata": {
        "id": "wLFtDmgOuMMq",
        "outputId": "15313dfd-8bac-49d4-cdfd-9b8c1b9f89aa",
        "colab": {
          "base_uri": "https://localhost:8080/"
        }
      },
      "execution_count": 9,
      "outputs": [
        {
          "output_type": "stream",
          "name": "stdout",
          "text": [
            "I'm used to using a bike.\n",
            "I'm not the best at driving a car.\n",
            "I would love if I could take a train\n"
          ]
        }
      ]
    },
    {
      "cell_type": "markdown",
      "source": [
        "#Example Set 2"
      ],
      "metadata": {
        "id": "2gCZLL9EuzL4"
      }
    },
    {
      "cell_type": "code",
      "source": [
        "motor = ['honda', 'yamaha', 'suzuki']\n",
        "motor.append(\"ducati\")\n",
        "print(motor)"
      ],
      "metadata": {
        "colab": {
          "base_uri": "https://localhost:8080/"
        },
        "id": "hasO9wfLn3SZ",
        "outputId": "a53e0ae9-5f3e-4235-e76a-ad94dead8605"
      },
      "execution_count": null,
      "outputs": [
        {
          "output_type": "stream",
          "name": "stdout",
          "text": [
            "['honda', 'yamaha', 'suzuki', 'Ducati']\n"
          ]
        }
      ]
    },
    {
      "cell_type": "code",
      "source": [
        "motor = []\n",
        "\n",
        "motor.append(\"honda\")\n",
        "motor.append(\"yamaha\")\n",
        "motor.append(\"suzuki\")\n",
        "\n",
        "print(motor)\n",
        "\n",
        "motor.insert(0,\"ducati\")\n",
        "print(motor)\n",
        "\n",
        "del motor[0]\n",
        "print(motor)\n",
        "\n",
        "del motor[1]\n",
        "print(motor)"
      ],
      "metadata": {
        "id": "CaQiGGm1u6nE",
        "outputId": "1dcdad14-f233-4866-dbdc-8b6dba6835b4",
        "colab": {
          "base_uri": "https://localhost:8080/"
        }
      },
      "execution_count": 17,
      "outputs": [
        {
          "output_type": "stream",
          "name": "stdout",
          "text": [
            "['honda', 'yamaha', 'suzuki']\n",
            "['ducati', 'honda', 'yamaha', 'suzuki']\n",
            "['honda', 'yamaha', 'suzuki']\n",
            "['honda', 'suzuki']\n"
          ]
        }
      ]
    },
    {
      "cell_type": "code",
      "source": [
        "motor = ['honda', 'yamaha', 'suzuki']\n",
        "\n",
        "popped_motor = motor.pop(0)\n",
        "print(f'The first motorcycle I ever owned was a {popped_motor.title()}')"
      ],
      "metadata": {
        "id": "aPGs_iCnvq2F",
        "outputId": "6ab732c7-d448-4445-a8fa-26e390ae4212",
        "colab": {
          "base_uri": "https://localhost:8080/"
        }
      },
      "execution_count": 27,
      "outputs": [
        {
          "output_type": "stream",
          "name": "stdout",
          "text": [
            "The first motorcycle I ever owned was a Honda\n"
          ]
        }
      ]
    },
    {
      "cell_type": "code",
      "source": [
        "motor = ['honda', 'yamaha', 'suzuki','ducati']\n",
        "print(motor)\n",
        "\n",
        "motor.remove('ducati')\n",
        "print(motor)"
      ],
      "metadata": {
        "id": "2EZPRe3rwkHc",
        "outputId": "bcaf45ca-4b8a-4abd-8b97-86b3670450c0",
        "colab": {
          "base_uri": "https://localhost:8080/"
        }
      },
      "execution_count": 30,
      "outputs": [
        {
          "output_type": "stream",
          "name": "stdout",
          "text": [
            "['honda', 'yamaha', 'suzuki', 'ducati']\n",
            "['honda', 'yamaha', 'suzuki']\n"
          ]
        }
      ]
    },
    {
      "cell_type": "code",
      "source": [
        "motor = ['honda', 'yamaha', 'suzuki','ducati']\n",
        "print(motor)\n",
        "\n",
        "too_expensive = 'ducati'\n",
        "motor.remove(too_expensive)\n",
        "print(motor)\n",
        "print(f'\\nA {too_expensive.title()} is too expensive for me.')"
      ],
      "metadata": {
        "id": "NqVaLzHhw2dJ",
        "outputId": "61b80fb7-9e67-4a66-eb2d-a77b1e06473f",
        "colab": {
          "base_uri": "https://localhost:8080/"
        }
      },
      "execution_count": 32,
      "outputs": [
        {
          "output_type": "stream",
          "name": "stdout",
          "text": [
            "['honda', 'yamaha', 'suzuki', 'ducati']\n",
            "['honda', 'yamaha', 'suzuki']\n",
            "\n",
            "A Ducati is too expensive for me.\n"
          ]
        }
      ]
    },
    {
      "cell_type": "markdown",
      "source": [
        "#Exercise Set 2"
      ],
      "metadata": {
        "id": "Fj31KTuty09p"
      }
    },
    {
      "cell_type": "code",
      "source": [
        "#3-4,5,6,7\n",
        "guest_list = [\"John\",\"Bill\",\"Samantha\",\"Janice\"]\n",
        "\n",
        "for i in guest_list:\n",
        "  print(f'Dear {i},\\n\\tYou are invited to the dinner gala')\n",
        "\n",
        "guest_list.remove('Samantha')\n",
        "guest_list.append('Sam')\n",
        "\n",
        "for i in guest_list:\n",
        "  print(f'Dear {i},\\n\\tYou are invited to the dinner gala')\n",
        "\n",
        "print('We have reserved a larger table!')\n",
        "\n",
        "guest_list.insert(0,'Jimothy')\n",
        "guest_list.insert(3,'Jill')\n",
        "guest_list.append('Jam')\n",
        "\n",
        "for i in guest_list:\n",
        "  print(f'Dear {i},\\n\\tYou are invited to the dinner gala')\n",
        "\n",
        "print(\"I'm sorry the table blew up, we can only bring 2 people\")\n",
        "\n",
        "while len(guest_list) > 2:\n",
        "  guest = guest_list.pop()\n",
        "  print(f\"I'm sorry {guest} we will no longer be able to invite you. :(\")\n",
        "print(guest_list)"
      ],
      "metadata": {
        "colab": {
          "base_uri": "https://localhost:8080/"
        },
        "id": "0Tq2ubqtoRD8",
        "outputId": "57498c39-3d54-4cc7-de6e-303d1d1f8189"
      },
      "execution_count": 37,
      "outputs": [
        {
          "output_type": "stream",
          "name": "stdout",
          "text": [
            "Dear John,\n",
            "\tYou are invited to the dinner gala\n",
            "Dear Bill,\n",
            "\tYou are invited to the dinner gala\n",
            "Dear Samantha,\n",
            "\tYou are invited to the dinner gala\n",
            "Dear Janice,\n",
            "\tYou are invited to the dinner gala\n",
            "Dear John,\n",
            "\tYou are invited to the dinner gala\n",
            "Dear Bill,\n",
            "\tYou are invited to the dinner gala\n",
            "Dear Janice,\n",
            "\tYou are invited to the dinner gala\n",
            "Dear Sam,\n",
            "\tYou are invited to the dinner gala\n",
            "We have reserved a larger table!\n",
            "Dear Jimothy,\n",
            "\tYou are invited to the dinner gala\n",
            "Dear John,\n",
            "\tYou are invited to the dinner gala\n",
            "Dear Bill,\n",
            "\tYou are invited to the dinner gala\n",
            "Dear Jill,\n",
            "\tYou are invited to the dinner gala\n",
            "Dear Janice,\n",
            "\tYou are invited to the dinner gala\n",
            "Dear Sam,\n",
            "\tYou are invited to the dinner gala\n",
            "Dear Jam,\n",
            "\tYou are invited to the dinner gala\n",
            "I'm sorry the table blew up, we can only bring 2 people\n",
            "I'm sorry Jam we will no longer be able to invite you. :(\n",
            "I'm sorry Sam we will no longer be able to invite you. :(\n",
            "I'm sorry Janice we will no longer be able to invite you. :(\n",
            "I'm sorry Jill we will no longer be able to invite you. :(\n",
            "I'm sorry Bill we will no longer be able to invite you. :(\n",
            "['Jimothy', 'John']\n"
          ]
        }
      ]
    },
    {
      "cell_type": "markdown",
      "source": [
        "#Example Set 3"
      ],
      "metadata": {
        "id": "yRF9_XaW0FNn"
      }
    },
    {
      "cell_type": "code",
      "source": [
        "cars = ['bmw', 'audi', 'toyota', 'subaru']\n",
        "cars.sort()\n",
        "print(cars)\n",
        "cars.sort(reverse=True)\n",
        "print(cars)"
      ],
      "metadata": {
        "id": "RbyAmTg2y9tH",
        "outputId": "b1596d01-3f1e-46fc-c4ca-18a3f9f3a99c",
        "colab": {
          "base_uri": "https://localhost:8080/"
        }
      },
      "execution_count": 40,
      "outputs": [
        {
          "output_type": "stream",
          "name": "stdout",
          "text": [
            "['audi', 'bmw', 'subaru', 'toyota']\n",
            "['toyota', 'subaru', 'bmw', 'audi']\n"
          ]
        }
      ]
    },
    {
      "cell_type": "code",
      "source": [
        "cars = ['bmw', 'audi', 'toyota', 'subaru']\n",
        "print(\"OG List:\")\n",
        "print(cars)\n",
        "\n",
        "print('Sorted List:')\n",
        "print(sorted(cars))\n",
        "\n",
        "print(\"OG List Again:\")\n",
        "print(cars)"
      ],
      "metadata": {
        "id": "8spbZhsPzHvg",
        "outputId": "8ab11fcc-02cf-4a12-e853-b6641cce12c2",
        "colab": {
          "base_uri": "https://localhost:8080/"
        }
      },
      "execution_count": 42,
      "outputs": [
        {
          "output_type": "stream",
          "name": "stdout",
          "text": [
            "OG List:\n",
            "['bmw', 'audi', 'toyota', 'subaru']\n",
            "Sorted List:\n",
            "['audi', 'bmw', 'subaru', 'toyota']\n",
            "OG List Again:\n",
            "['bmw', 'audi', 'toyota', 'subaru']\n"
          ]
        }
      ]
    },
    {
      "cell_type": "code",
      "source": [
        "cars = ['bmw', 'audi', 'toyota', 'subaru']\n",
        "cars.reverse()\n",
        "print(cars)\n",
        "print(len(cars))"
      ],
      "metadata": {
        "id": "8uPhvcnCzYCD",
        "outputId": "a5e1e6ca-3714-427b-dd65-020afcafe973",
        "colab": {
          "base_uri": "https://localhost:8080/"
        }
      },
      "execution_count": 43,
      "outputs": [
        {
          "output_type": "stream",
          "name": "stdout",
          "text": [
            "['subaru', 'toyota', 'audi', 'bmw']\n",
            "4\n"
          ]
        }
      ]
    },
    {
      "cell_type": "markdown",
      "source": [
        "#Exercise Set 3"
      ],
      "metadata": {
        "id": "k3XaOSTW0DHA"
      }
    },
    {
      "cell_type": "code",
      "source": [
        "#3-8\n",
        "locations = ['Siberia','Sentinel Islands','Tibet','North Korea']\n",
        "print(locations)\n",
        "print(sorted(locations))\n",
        "print(locations)\n",
        "locations.reverse()\n",
        "print(locations)\n",
        "locations.reverse()\n",
        "print(locations)\n",
        "locations.sort()\n",
        "print(locations)\n",
        "locations.sort(reverse=True)\n",
        "print(locations)"
      ],
      "metadata": {
        "id": "-YejZN3xz1MM",
        "outputId": "6cbb6960-97a5-4364-8908-37d4c1a46c58",
        "colab": {
          "base_uri": "https://localhost:8080/"
        }
      },
      "execution_count": 49,
      "outputs": [
        {
          "output_type": "stream",
          "name": "stdout",
          "text": [
            "['Siberia', 'Sentinel Islands', 'Tibet', 'North Korea']\n",
            "['North Korea', 'Sentinel Islands', 'Siberia', 'Tibet']\n",
            "['Siberia', 'Sentinel Islands', 'Tibet', 'North Korea']\n",
            "['North Korea', 'Tibet', 'Sentinel Islands', 'Siberia']\n",
            "['Siberia', 'Sentinel Islands', 'Tibet', 'North Korea']\n",
            "['North Korea', 'Sentinel Islands', 'Siberia', 'Tibet']\n",
            "['Tibet', 'Siberia', 'Sentinel Islands', 'North Korea']\n"
          ]
        }
      ]
    },
    {
      "cell_type": "code",
      "source": [
        "guest_list = [\"John\",\"Bill\",\"Samantha\",\"Janice\"]\n",
        "print(f'There will be {len(guest_list)} people at dinner.')"
      ],
      "metadata": {
        "id": "avCQW-fS0xYl",
        "outputId": "c127a975-b2e7-4023-d5f0-be426ab50c04",
        "colab": {
          "base_uri": "https://localhost:8080/"
        }
      },
      "execution_count": 50,
      "outputs": [
        {
          "output_type": "stream",
          "name": "stdout",
          "text": [
            "There will be 4 people at dinner.\n"
          ]
        }
      ]
    },
    {
      "cell_type": "code",
      "source": [
        "numbers = ['one','two','three','four','five']\n",
        "print(numbers)\n",
        "print(sorted(numbers))\n",
        "print(sorted(numbers,reverse=True))\n",
        "numbers.reverse()\n",
        "print(numbers)"
      ],
      "metadata": {
        "id": "Vrt7hdSW1EKO",
        "outputId": "7d5b5297-55f6-4688-b31f-d71f7ea675b8",
        "colab": {
          "base_uri": "https://localhost:8080/"
        }
      },
      "execution_count": 54,
      "outputs": [
        {
          "output_type": "stream",
          "name": "stdout",
          "text": [
            "['one', 'two', 'three', 'four', 'five']\n",
            "['five', 'four', 'one', 'three', 'two']\n",
            "['two', 'three', 'one', 'four', 'five']\n",
            "['five', 'four', 'three', 'two', 'one']\n"
          ]
        }
      ]
    },
    {
      "cell_type": "code",
      "source": [
        "numlis1 = [40,50,120,-8,6]\n",
        "def function(num):\n",
        "  return (7.4*num) + 51\n",
        "\n",
        "for i in numlis1:\n",
        "  print(function(i))"
      ],
      "metadata": {
        "colab": {
          "base_uri": "https://localhost:8080/"
        },
        "id": "kX9MxZjrsR89",
        "outputId": "6c0064cb-1311-43b1-8278-4c4e5d63ed73"
      },
      "execution_count": null,
      "outputs": [
        {
          "output_type": "stream",
          "name": "stdout",
          "text": [
            "347.0\n",
            "421.0\n",
            "939.0\n",
            "-8.200000000000003\n",
            "95.4\n"
          ]
        }
      ]
    },
    {
      "cell_type": "code",
      "source": [],
      "metadata": {
        "id": "oxsxuZiCtw4V"
      },
      "execution_count": null,
      "outputs": []
    }
  ]
}