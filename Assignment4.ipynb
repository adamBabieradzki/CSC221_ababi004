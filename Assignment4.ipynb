{
  "nbformat": 4,
  "nbformat_minor": 0,
  "metadata": {
    "colab": {
      "provenance": [],
      "authorship_tag": "ABX9TyMEAMIUjb3CZEcPH16Gs0p8",
      "include_colab_link": true
    },
    "kernelspec": {
      "name": "python3",
      "display_name": "Python 3"
    },
    "language_info": {
      "name": "python"
    }
  },
  "cells": [
    {
      "cell_type": "markdown",
      "metadata": {
        "id": "view-in-github",
        "colab_type": "text"
      },
      "source": [
        "<a href=\"https://colab.research.google.com/github/adamBabieradzki/CSC221_ababi004/blob/main/Assignment4.ipynb\" target=\"_parent\"><img src=\"https://colab.research.google.com/assets/colab-badge.svg\" alt=\"Open In Colab\"/></a>"
      ]
    },
    {
      "cell_type": "code",
      "execution_count": 1,
      "metadata": {
        "colab": {
          "base_uri": "https://localhost:8080/"
        },
        "id": "JBoD0DCznaoy",
        "outputId": "9fc4e21e-f0a4-4f07-dfa5-c61ddda9cc97"
      },
      "outputs": [
        {
          "output_type": "stream",
          "name": "stdout",
          "text": [
            "Small\n"
          ]
        }
      ],
      "source": [
        "bicycles = [\"big\",\"small\",\"shmedium\"]\n",
        "print(bicycles[1].title())"
      ]
    },
    {
      "cell_type": "code",
      "source": [
        "print(f'The bike is {bicycles[0]}.')"
      ],
      "metadata": {
        "colab": {
          "base_uri": "https://localhost:8080/"
        },
        "id": "VQrbMqj2nwj8",
        "outputId": "33465136-85e2-4f65-89dd-f97f75263d89"
      },
      "execution_count": 3,
      "outputs": [
        {
          "output_type": "stream",
          "name": "stdout",
          "text": [
            "The bike is big.\n"
          ]
        }
      ]
    },
    {
      "cell_type": "code",
      "source": [
        "motor = ['honda', 'yamaha', 'suzuki']\n",
        "motor.append(\"ducati\")\n",
        "print(motor)"
      ],
      "metadata": {
        "colab": {
          "base_uri": "https://localhost:8080/"
        },
        "id": "hasO9wfLn3SZ",
        "outputId": "a53e0ae9-5f3e-4235-e76a-ad94dead8605"
      },
      "execution_count": 6,
      "outputs": [
        {
          "output_type": "stream",
          "name": "stdout",
          "text": [
            "['honda', 'yamaha', 'suzuki', 'Ducati']\n"
          ]
        }
      ]
    },
    {
      "cell_type": "code",
      "source": [
        "motor.pop(-1)\n",
        "motor.insert(0,\"ducati\")\n",
        "print(motor)"
      ],
      "metadata": {
        "colab": {
          "base_uri": "https://localhost:8080/"
        },
        "id": "Mnfi1G7zn91n",
        "outputId": "aeaac516-3d2a-4926-9cee-14302395ef9b"
      },
      "execution_count": 8,
      "outputs": [
        {
          "output_type": "stream",
          "name": "stdout",
          "text": [
            "['ducati', 'ducati', 'honda', 'yamaha']\n"
          ]
        }
      ]
    },
    {
      "cell_type": "code",
      "source": [
        "guest_list = [\"John\",\"Bill\",\"Samantha\",\"Janice\"]\n",
        "for i in guest_list:\n",
        "  print(f'Dear {i},\\n\\tYou are invited to the dinner gala')"
      ],
      "metadata": {
        "colab": {
          "base_uri": "https://localhost:8080/"
        },
        "id": "0Tq2ubqtoRD8",
        "outputId": "37b6600d-dbfd-41d1-f7f7-55528785960b"
      },
      "execution_count": 11,
      "outputs": [
        {
          "output_type": "stream",
          "name": "stdout",
          "text": [
            "Dear John,\n",
            "\tYou are invited to the dinner gala\n",
            "Dear Bill,\n",
            "\tYou are invited to the dinner gala\n",
            "Dear Samantha,\n",
            "\tYou are invited to the dinner gala\n",
            "Dear Janice,\n",
            "\tYou are invited to the dinner gala\n"
          ]
        }
      ]
    },
    {
      "cell_type": "code",
      "source": [
        "guest_list.pop(1)\n",
        "guest_list.append(\"Adam\")\n",
        "for i in guest_list:\n",
        "  print(f'Dear {i},\\n\\tYou are invited to the dinner gala')"
      ],
      "metadata": {
        "colab": {
          "base_uri": "https://localhost:8080/"
        },
        "id": "U1UN8MHHpCfR",
        "outputId": "9a778d21-42a0-4caa-a679-02c8ec025463"
      },
      "execution_count": 12,
      "outputs": [
        {
          "output_type": "stream",
          "name": "stdout",
          "text": [
            "Dear John,\n",
            "\tYou are invited to the dinner gala\n",
            "Dear Samantha,\n",
            "\tYou are invited to the dinner gala\n",
            "Dear Janice,\n",
            "\tYou are invited to the dinner gala\n",
            "Dear Adam,\n",
            "\tYou are invited to the dinner gala\n"
          ]
        }
      ]
    },
    {
      "cell_type": "code",
      "source": [
        "locations = [\"Latvia\",\"Albania\",\"Bulgaria\",\"Poland\"]\n",
        "print(locations)\n",
        "print(sorted(locations))\n",
        "print(locations)\n",
        "len(guest_list)\n",
        "locations.sort()\n",
        "print(locations)\n",
        "locations.sort(reverse=True)\n",
        "print(locations)"
      ],
      "metadata": {
        "colab": {
          "base_uri": "https://localhost:8080/"
        },
        "id": "uUJZ2WZuprSc",
        "outputId": "d40f80ca-3aa3-44fb-f464-9fe660d32724"
      },
      "execution_count": 21,
      "outputs": [
        {
          "output_type": "stream",
          "name": "stdout",
          "text": [
            "['Latvia', 'Albania', 'Bulgaria', 'Poland']\n",
            "['Albania', 'Bulgaria', 'Latvia', 'Poland']\n",
            "['Latvia', 'Albania', 'Bulgaria', 'Poland']\n",
            "['Albania', 'Bulgaria', 'Latvia', 'Poland']\n",
            "['Poland', 'Latvia', 'Bulgaria', 'Albania']\n"
          ]
        }
      ]
    },
    {
      "cell_type": "code",
      "source": [
        "len(guest_list)"
      ],
      "metadata": {
        "colab": {
          "base_uri": "https://localhost:8080/"
        },
        "id": "kxXNnlY1rsx3",
        "outputId": "467a6d20-f963-45b5-9e3b-9a8a4e8bab67"
      },
      "execution_count": 22,
      "outputs": [
        {
          "output_type": "execute_result",
          "data": {
            "text/plain": [
              "4"
            ]
          },
          "metadata": {},
          "execution_count": 22
        }
      ]
    },
    {
      "cell_type": "code",
      "source": [
        "numlis1 = [40,50,120,-8,6]\n",
        "def function(num):\n",
        "  return (7.4*num) + 51\n",
        "\n",
        "for i in numlis1:\n",
        "  print(function(i))"
      ],
      "metadata": {
        "colab": {
          "base_uri": "https://localhost:8080/"
        },
        "id": "kX9MxZjrsR89",
        "outputId": "6c0064cb-1311-43b1-8278-4c4e5d63ed73"
      },
      "execution_count": 24,
      "outputs": [
        {
          "output_type": "stream",
          "name": "stdout",
          "text": [
            "347.0\n",
            "421.0\n",
            "939.0\n",
            "-8.200000000000003\n",
            "95.4\n"
          ]
        }
      ]
    },
    {
      "cell_type": "code",
      "source": [],
      "metadata": {
        "id": "oxsxuZiCtw4V"
      },
      "execution_count": null,
      "outputs": []
    }
  ]
}