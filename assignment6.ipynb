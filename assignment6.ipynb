{
  "nbformat": 4,
  "nbformat_minor": 0,
  "metadata": {
    "colab": {
      "provenance": [],
      "authorship_tag": "ABX9TyPMFOfVJI9oYyuoOEC8/XsG",
      "include_colab_link": true
    },
    "kernelspec": {
      "name": "python3",
      "display_name": "Python 3"
    },
    "language_info": {
      "name": "python"
    }
  },
  "cells": [
    {
      "cell_type": "markdown",
      "metadata": {
        "id": "view-in-github",
        "colab_type": "text"
      },
      "source": [
        "<a href=\"https://colab.research.google.com/github/adamBabieradzki/CSC221_ababi004/blob/main/assignment6.ipynb\" target=\"_parent\"><img src=\"https://colab.research.google.com/assets/colab-badge.svg\" alt=\"Open In Colab\"/></a>"
      ]
    },
    {
      "cell_type": "code",
      "execution_count": null,
      "metadata": {
        "colab": {
          "base_uri": "https://localhost:8080/"
        },
        "id": "f4MhSwCADQih",
        "outputId": "d2f0953d-eefb-40e8-b5b3-2fd5aadbdb41"
      },
      "outputs": [
        {
          "output_type": "stream",
          "name": "stdout",
          "text": [
            "pepperoni\n",
            "supreme\n",
            "hawaiian\n",
            "pepperoni\n",
            "supreme\n",
            "hawaiian\n",
            "meat lovers\n"
          ]
        }
      ],
      "source": [
        "pizza = [\"pepperoni\",\"supreme\",\"hawaiian\"]\n",
        "#for i in pizza:\n",
        "#  print(i)\n",
        "\n",
        "friends_pizza = pizza\n",
        "for i in friends_pizza:print(i)\n",
        "pizza.append(\"meat lovers\")\n",
        "for i in pizza:print(i)\n"
      ]
    },
    {
      "cell_type": "code",
      "source": [
        "for i in pizza:\n",
        "  print(f'I like {i} pizza')\n",
        "print(\"I don't like pizza that much :3\")"
      ],
      "metadata": {
        "id": "mzPGg49ltiFM"
      },
      "execution_count": null,
      "outputs": []
    },
    {
      "cell_type": "code",
      "source": [
        "#4-2 is the same thign\n",
        "for i in range(1,21):\n",
        "  print(i)\n",
        "#4-4 same thing, don't wanna have a ten mile outpu"
      ],
      "metadata": {
        "id": "VWfZAW2oqeyS"
      },
      "execution_count": null,
      "outputs": []
    },
    {
      "cell_type": "code",
      "source": [
        "for i in range(1,20,2):print(i)\n",
        "for i in range(3,33,3):print(i)"
      ],
      "metadata": {
        "id": "TOupXeytuDTe"
      },
      "execution_count": null,
      "outputs": []
    },
    {
      "cell_type": "code",
      "source": [
        "for i in range(1,11):print(i**3)"
      ],
      "metadata": {
        "id": "PHJPTFpauXl1"
      },
      "execution_count": null,
      "outputs": []
    },
    {
      "cell_type": "code",
      "source": [
        "print([x**3 for x in range(1,11)])"
      ],
      "metadata": {
        "colab": {
          "base_uri": "https://localhost:8080/"
        },
        "id": "Ei5hBnHYutob",
        "outputId": "07dbb32b-62f7-448c-f9df-ea6edca97ee6"
      },
      "execution_count": null,
      "outputs": [
        {
          "output_type": "stream",
          "name": "stdout",
          "text": [
            "[1, 8, 27, 64, 125, 216, 343, 512, 729, 1000]\n"
          ]
        }
      ]
    },
    {
      "cell_type": "code",
      "source": [
        "def factorial(x):\n",
        "  product = 1\n",
        "  lisx = [i for i in range(1,x+1)]\n",
        "  for i in lisx:\n",
        "    product *= i\n",
        "  return product\n",
        "\n",
        "\n",
        "factorial(50)"
      ],
      "metadata": {
        "id": "SLuMIcCC8Okl",
        "colab": {
          "base_uri": "https://localhost:8080/"
        },
        "outputId": "7e50a9ad-3965-44e8-d042-b41407fb4e15"
      },
      "execution_count": 1,
      "outputs": [
        {
          "output_type": "execute_result",
          "data": {
            "text/plain": [
              "30414093201713378043612608166064768844377641568960512000000000000"
            ]
          },
          "metadata": {},
          "execution_count": 1
        }
      ]
    },
    {
      "cell_type": "code",
      "source": [
        "def special_factorial(x):\n",
        "  product = 1\n",
        "  lisx = [i for i in range(1,x+1)]\n",
        "  for i in lisx:\n",
        "    if i not in [4,13,22]: #this if statement is the only difference between factorial and special factorial, very happy this worked the way i thought it would\n",
        "      product *= i\n",
        "  return product\n",
        "\n",
        "\n",
        "special_factorial(50)"
      ],
      "metadata": {
        "colab": {
          "base_uri": "https://localhost:8080/"
        },
        "id": "RUmp9XbSvFKs",
        "outputId": "f14160bc-5122-47b1-8fcc-df624b09bf16"
      },
      "execution_count": null,
      "outputs": [
        {
          "output_type": "execute_result",
          "data": {
            "text/plain": [
              "26585745805693512275885146998308364374455980392448000000000000"
            ]
          },
          "metadata": {},
          "execution_count": 56
        }
      ]
    },
    {
      "cell_type": "code",
      "source": [
        "def fruit_test():\n",
        "  #list of acceptable colors, prevents junk input for size\n",
        "  colors = [\"red\",\"green\",\"orange\",\"purple\",\"black\",\"yellow\"]\n",
        "  #empty dict for storing fruit\n",
        "  fruits = {}\n",
        "  #colors of fruit and the qualifiers\n",
        "  fruits[\"red\"] = [\"apple\",\"strawberry\",\"pomegranate\"]\n",
        "  fruits[\"green\"]=[\"apple\",\"grape\",\"kiwi\"]\n",
        "  fruits[\"orange\"]=[\"orange\",\"grapefruit\",\"peach\",\"apricot\",\"mango\"]\n",
        "  fruits[\"purple\"] = [\"blueberry\",\"grape\",\"plum\"]\n",
        "  fruits[\"black\"] = [\"currant\",\"blackberry\"]\n",
        "  fruits[\"yellow\"] = [\"banana\",\"lemon\"]\n",
        "  #sizes of fruit and their qualifiers\n",
        "  fruits[\"small\"] = [\"strawberry\",\"rasberry\",\"grape\",\"blueberry\",\"apricot\",\"currant\",\"blackberry\"]\n",
        "  fruits[\"medium\"] = [\"apple\",\"orange\",\"peach\",\"mango\",\"plum\",\"kiwi\",\"banana\",\"lemon\"]\n",
        "  fruits[\"large\"] = [\"pomegranate\",\"grapefruit\"]\n",
        "  #queries the user their color\n",
        "  user_color = input('what color are you: ')\n",
        "  #makes sure the user is a fruit like color\n",
        "  if user_color in colors:\n",
        "    #queries user's size\n",
        "    user_size = input(\"are you small medium or large: \")\n",
        "    #this if statement makes sure user does not enter a color into size since colors are also valid keys for dict fruits\n",
        "    if (user_size in fruits.keys()) and (user_size not in colors):\n",
        "      #creates an empty basket for qualifying fruit\n",
        "      output = []\n",
        "      for i in fruits[user_color]:\n",
        "        #this loop runs through all valid fruit in user_color and adds any that match both size and color into the output list\n",
        "        if i in fruits[user_size]: output.append(i)\n",
        "      if len(output) == 1: print(f\"You're a {output[0]}.\")\n",
        "      #if there is only one output the program is certain you're a specific fruit\n",
        "      elif len(output) > 1:\n",
        "        #if you meet the criterea for multiple fruit the program prints all posibilities by looping throuhg output\n",
        "        for i in output:\n",
        "          print(f\"You might be an {i}.\")\n",
        "      else:print(\"You're not a fruit\")\n",
        "    else:print(\"You are not a fruit\")\n",
        "  else:print(\"You are not a fruit\")\n",
        "\n",
        "fruit_test()"
      ],
      "metadata": {
        "colab": {
          "base_uri": "https://localhost:8080/"
        },
        "id": "-43f0yFeY6Ir",
        "outputId": "3fec63f5-143a-4818-fc28-e89fa0e3ac4e"
      },
      "execution_count": 16,
      "outputs": [
        {
          "output_type": "stream",
          "name": "stdout",
          "text": [
            "what color are you: red\n",
            "are you small medium or large: large\n",
            "You're an pomegranate.\n"
          ]
        }
      ]
    },
    {
      "cell_type": "code",
      "source": [],
      "metadata": {
        "id": "PQ10SHRHeWVu"
      },
      "execution_count": null,
      "outputs": []
    }
  ]
}