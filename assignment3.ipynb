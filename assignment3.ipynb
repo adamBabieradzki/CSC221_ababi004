{
  "nbformat": 4,
  "nbformat_minor": 0,
  "metadata": {
    "colab": {
      "provenance": [],
      "authorship_tag": "ABX9TyPusLZ0cQYaJRrh5oRkxPly"
    },
    "kernelspec": {
      "name": "python3",
      "display_name": "Python 3"
    },
    "language_info": {
      "name": "python"
    }
  },
  "cells": [
    {
      "cell_type": "code",
      "source": [
        "#DIY 2-1 & 2-2\n",
        "message1 = \"This is a simple message\"\n",
        "print(message1)\n",
        "message1 = \"This is also a simple message\"\n",
        "print(message1)"
      ],
      "metadata": {
        "colab": {
          "base_uri": "https://localhost:8080/"
        },
        "id": "LneZ3T7nNTce",
        "outputId": "6e81001b-9832-4388-9894-ed5a95e55a4b"
      },
      "execution_count": 6,
      "outputs": [
        {
          "output_type": "stream",
          "name": "stdout",
          "text": [
            "This is a simple message\n",
            "This is also a simple message\n"
          ]
        }
      ]
    },
    {
      "cell_type": "code",
      "source": [
        "#DIY 2-3\n",
        "name = \"Adam\"\n",
        "print(f'Hello {name} would you like to write python tonight')"
      ],
      "metadata": {
        "colab": {
          "base_uri": "https://localhost:8080/"
        },
        "id": "Kfqx2vB-Np0n",
        "outputId": "21f6e82a-6943-4f13-da47-a000eff8210c"
      },
      "execution_count": 7,
      "outputs": [
        {
          "output_type": "stream",
          "name": "stdout",
          "text": [
            "Hello Adam would you like to write python tonight\n"
          ]
        }
      ]
    },
    {
      "cell_type": "code",
      "source": [
        "#DIY 2-4\n",
        "name = \"AdAm\"\n",
        "print(name.upper())\n",
        "print(name.lower())\n",
        "print(name.title())"
      ],
      "metadata": {
        "colab": {
          "base_uri": "https://localhost:8080/"
        },
        "id": "JX2gqi78OABs",
        "outputId": "2d260218-da07-4566-fbf2-92423b1e775b"
      },
      "execution_count": 9,
      "outputs": [
        {
          "output_type": "stream",
          "name": "stdout",
          "text": [
            "ADAM\n",
            "adam\n",
            "Adam\n"
          ]
        }
      ]
    },
    {
      "cell_type": "code",
      "source": [
        "#DIY 2-5 & 2-6\n",
        "str1 = \"Benjamin Franklin\"\n",
        "str2 = \"Three can keep a secret, if two of them are dead\"\n",
        "\n",
        "print(f'\\t {str1} once said \\n {str2}')"
      ],
      "metadata": {
        "colab": {
          "base_uri": "https://localhost:8080/"
        },
        "id": "xe-YEuxWOKbg",
        "outputId": "bc1d9625-f470-4968-8a09-52fb5416410a"
      },
      "execution_count": 11,
      "outputs": [
        {
          "output_type": "stream",
          "name": "stdout",
          "text": [
            "\t Benjamin Franklin once said \n",
            " Three can keep a secret, if two of them are dead\n"
          ]
        }
      ]
    },
    {
      "cell_type": "code",
      "source": [
        "#DIY 2-7\n",
        "str1 = \"\\tAdam\\t\\n\"\n",
        "print(str1)\n",
        "print(str1.lstrip())\n",
        "print(str1.rstrip())\n",
        "print(str1.strip())"
      ],
      "metadata": {
        "colab": {
          "base_uri": "https://localhost:8080/"
        },
        "id": "zxgpfDSpPc5Y",
        "outputId": "9d45f065-9d8b-4c6b-860c-75073996628e"
      },
      "execution_count": 13,
      "outputs": [
        {
          "output_type": "stream",
          "name": "stdout",
          "text": [
            "\tAdam\t\n",
            "\n",
            "Adam\t\n",
            "\n",
            "\tAdam\n",
            "Adam\n"
          ]
        }
      ]
    },
    {
      "cell_type": "code",
      "source": [
        "#DIY 2-8\n",
        "str1=\"pytyhon_notes.txt\"\n",
        "print(str1.removesuffix(\".txt\"))\n"
      ],
      "metadata": {
        "colab": {
          "base_uri": "https://localhost:8080/"
        },
        "id": "VbH_rLyaP1h_",
        "outputId": "92436d54-efb0-48a2-df94-37d92b4d02af"
      },
      "execution_count": 16,
      "outputs": [
        {
          "output_type": "stream",
          "name": "stdout",
          "text": [
            "pytyhon_notes\n"
          ]
        }
      ]
    },
    {
      "cell_type": "code",
      "source": [
        "#DIY 2-9\n",
        "print(2 + 6)\n",
        "print(-8 - (-16))\n",
        "print(4 * 2)\n",
        "print(64 / 8)"
      ],
      "metadata": {
        "colab": {
          "base_uri": "https://localhost:8080/"
        },
        "id": "q1aExcHGQ3mQ",
        "outputId": "9c49187b-2d3b-46c9-936b-8310aa23be76"
      },
      "execution_count": 19,
      "outputs": [
        {
          "output_type": "stream",
          "name": "stdout",
          "text": [
            "8\n",
            "8\n",
            "8\n",
            "8.0\n"
          ]
        }
      ]
    },
    {
      "cell_type": "code",
      "source": [
        "num1 = 9969\n",
        "print(f'Dont tell anyone my favorite number is {num1}')"
      ],
      "metadata": {
        "colab": {
          "base_uri": "https://localhost:8080/"
        },
        "id": "GjTjG-EORSVQ",
        "outputId": "8fd16da5-506a-40ed-bf97-b9cca8521ae3"
      },
      "execution_count": 20,
      "outputs": [
        {
          "output_type": "stream",
          "name": "stdout",
          "text": [
            "Dont tell anyone my favorite number is 9969\n"
          ]
        }
      ]
    },
    {
      "cell_type": "code",
      "source": [
        "import this"
      ],
      "metadata": {
        "colab": {
          "base_uri": "https://localhost:8080/"
        },
        "id": "tDe00V43RnhQ",
        "outputId": "1fffc9ca-2f40-4b3d-9340-94d3d964d1ae"
      },
      "execution_count": 21,
      "outputs": [
        {
          "output_type": "stream",
          "name": "stdout",
          "text": [
            "The Zen of Python, by Tim Peters\n",
            "\n",
            "Beautiful is better than ugly.\n",
            "Explicit is better than implicit.\n",
            "Simple is better than complex.\n",
            "Complex is better than complicated.\n",
            "Flat is better than nested.\n",
            "Sparse is better than dense.\n",
            "Readability counts.\n",
            "Special cases aren't special enough to break the rules.\n",
            "Although practicality beats purity.\n",
            "Errors should never pass silently.\n",
            "Unless explicitly silenced.\n",
            "In the face of ambiguity, refuse the temptation to guess.\n",
            "There should be one-- and preferably only one --obvious way to do it.\n",
            "Although that way may not be obvious at first unless you're Dutch.\n",
            "Now is better than never.\n",
            "Although never is often better than *right* now.\n",
            "If the implementation is hard to explain, it's a bad idea.\n",
            "If the implementation is easy to explain, it may be a good idea.\n",
            "Namespaces are one honking great idea -- let's do more of those!\n"
          ]
        }
      ]
    },
    {
      "cell_type": "code",
      "source": [],
      "metadata": {
        "id": "qpN5nCK2RuCo"
      },
      "execution_count": null,
      "outputs": []
    }
  ]
}