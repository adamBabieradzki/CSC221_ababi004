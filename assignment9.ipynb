{
  "nbformat": 4,
  "nbformat_minor": 0,
  "metadata": {
    "colab": {
      "provenance": [],
      "authorship_tag": "ABX9TyMhvtBoz7IgOqD7H9NfqU4W",
      "include_colab_link": true
    },
    "kernelspec": {
      "name": "python3",
      "display_name": "Python 3"
    },
    "language_info": {
      "name": "python"
    }
  },
  "cells": [
    {
      "cell_type": "markdown",
      "metadata": {
        "id": "view-in-github",
        "colab_type": "text"
      },
      "source": [
        "<a href=\"https://colab.research.google.com/github/adamBabieradzki/CSC221_ababi004/blob/main/assignment9.ipynb\" target=\"_parent\"><img src=\"https://colab.research.google.com/assets/colab-badge.svg\" alt=\"Open In Colab\"/></a>"
      ]
    },
    {
      "cell_type": "code",
      "execution_count": null,
      "metadata": {
        "id": "binVK_qKqWDl"
      },
      "outputs": [],
      "source": [
        "#Adam Babieradzki\n",
        "#Assignment 9"
      ]
    },
    {
      "cell_type": "code",
      "source": [
        "#TIY 8-2\n",
        "def favorite_book(book):\n",
        "      print(f'One of my favorite books is {book}')\n",
        "\n",
        "favorite_book(\"Alice in Wonderland\")\n",
        "\n",
        "#TIY 8-3 & 8-4\n",
        "def make_tshirt(size=\"Large\",message=\"I Love Python\"):\n",
        "  print(f'Ordering a {size} t shirt that says \"{message}\"')\n",
        "\n",
        "make_tshirt(\"Large\",\"I <3 Python\")\n",
        "make_tshirt(size=\"Small\",message=\"I don't like python\")\n",
        "make_tshirt()"
      ],
      "metadata": {
        "colab": {
          "base_uri": "https://localhost:8080/"
        },
        "id": "BOSgZnncqmqN",
        "outputId": "9201ee4a-2db2-42b7-fa86-f47a391065d0"
      },
      "execution_count": 5,
      "outputs": [
        {
          "output_type": "stream",
          "name": "stdout",
          "text": [
            "One of my favorite books is Alice in Wonderland\n",
            "Ordering a Large t shirt that says \"I <3 Python\"\n",
            "Ordering a Small t shirt that says \"I don't like python\"\n",
            "Ordering a Large t shirt that says \"I Love Python\"\n"
          ]
        }
      ]
    },
    {
      "cell_type": "code",
      "source": [
        "#TIY 8-14\n",
        "\n",
        "def make_car(maker, model, **kwargs):\n",
        "  dict1 = {\"Manufactuer\":maker,\"Model\":model}\n",
        "  for key, value in kwargs.items():\n",
        "    dict1[key] = value\n",
        "  return dict1\n",
        "\n",
        "car1= make_car('subaru', 'outback', color='blue', tow_package=True)\n",
        "car2 = make_car('subaru')\n",
        "print(car1)"
      ],
      "metadata": {
        "colab": {
          "base_uri": "https://localhost:8080/"
        },
        "id": "4-joIeV0q5We",
        "outputId": "f0f53618-3658-4e11-8475-e94de01caa41"
      },
      "execution_count": 9,
      "outputs": [
        {
          "output_type": "stream",
          "name": "stdout",
          "text": [
            "{'Manufactuer': 'subaru', 'Model': 'outback', 'color': 'blue', 'tow_package': True}\n"
          ]
        }
      ]
    },
    {
      "cell_type": "code",
      "source": [],
      "metadata": {
        "id": "z8wKYil7tRXE"
      },
      "execution_count": null,
      "outputs": []
    }
  ]
}