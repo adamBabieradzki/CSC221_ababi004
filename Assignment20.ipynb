{
  "nbformat": 4,
  "nbformat_minor": 0,
  "metadata": {
    "colab": {
      "provenance": [],
      "include_colab_link": true
    },
    "kernelspec": {
      "name": "python3",
      "display_name": "Python 3"
    },
    "language_info": {
      "name": "python"
    }
  },
  "cells": [
    {
      "cell_type": "markdown",
      "metadata": {
        "id": "view-in-github",
        "colab_type": "text"
      },
      "source": [
        "<a href=\"https://colab.research.google.com/github/adamBabieradzki/CSC221_ababi004/blob/main/Assignment20.ipynb\" target=\"_parent\"><img src=\"https://colab.research.google.com/assets/colab-badge.svg\" alt=\"Open In Colab\"/></a>"
      ]
    },
    {
      "cell_type": "markdown",
      "source": [
        "# Assignment 20\n",
        "## CSC 221\n",
        "- Adam Babieradzki\n",
        "\n",
        "### Instructions:\n",
        "Fill in each code cell below the question. We are following along in Chapter 4 of Python Distilled."
      ],
      "metadata": {
        "id": "IAOUzGWE1eDx"
      }
    },
    {
      "cell_type": "code",
      "execution_count": null,
      "metadata": {
        "id": "Gnj3su7i5-lx",
        "colab": {
          "base_uri": "https://localhost:8080/"
        },
        "outputId": "760646b8-3f08-45c9-9cf5-219c72db552c"
      },
      "outputs": [
        {
          "output_type": "stream",
          "name": "stdout",
          "text": [
            "19\n",
            "44.5\n",
            "asdfg13\n"
          ]
        }
      ],
      "source": [
        "# 4.1 Essential Concepts\n",
        "\n",
        "# When we write \"a + b\" in Python, the interpreter tries to execute a.__add__(b)\n",
        "\n",
        "# Show that this is true by trying the following:\n",
        "a = 6\n",
        "b = 31.5\n",
        "c = 'asdfg'\n",
        "a1 = a.__add__(13)\n",
        "b1 = b.__add__(13)\n",
        "c1 = c.__add__('13')\n",
        "print(a1)\n",
        "print(b1)\n",
        "print(c1)\n",
        "\n",
        "# What are the types of a, b, and c?\n",
        "# a integer\n",
        "# b float\n",
        "# c string\n",
        "# Explain the results\n",
        "#for a1 and b1 the numbers are added as numbers 1 + 1 = 2\n",
        "#for c1, adding strings causes the characters of the added portio to the and of the string a + b = ab\n"
      ]
    },
    {
      "cell_type": "code",
      "source": [
        "# 4.2 through 4.4 will be covered in the next assignment\n"
      ],
      "metadata": {
        "id": "w2uYd3DO2do6"
      },
      "execution_count": null,
      "outputs": []
    },
    {
      "cell_type": "code",
      "source": [
        "# 4.5 str and repr\n",
        "# How many categpries of printing are shown below for a datetime object?\n",
        "# What in the Pythion code makes each one get callled?\n",
        "\n",
        "from datetime import date\n",
        "d = date(2023, 11, 7)\n",
        "\n",
        "#print(d)\n",
        "#calls the built-in function print which prints d using datetime.date.__str__()\n",
        "#print(f'{d}')\n",
        "#calls the built-in function print which creates a formated string with datetime.date.__str__()\n",
        "#print(f'{d!s}')\n",
        "#calls datetime.date.__str__() and converts to a f string\n",
        "#print(f'{d!r}')\n",
        "#calls datetime.date.__repr__() and converts to string, before printing\n",
        "#print(str(d))\n",
        "#calls datetime.date.__str__()\n",
        "#print(repr(d))\n",
        "#calls datetime.date.__repr__()\n",
        "#print(d.__str__())\n",
        "#calls datetime.date.__str__()\n",
        "#print(d.__repr__())\n",
        "#calls datetime.date.__repr__()\n",
        "\n",
        "#only calls __repr__ or __str__ and passes that through to other functions such as print and str"
      ],
      "metadata": {
        "id": "Aa3ylzmV2wNF"
      },
      "execution_count": null,
      "outputs": []
    },
    {
      "cell_type": "code",
      "source": [
        "# 4.6 First-Class Objects\n",
        "# What is the significance of all objects being \"first-class\" in Python?\n",
        "\n",
        "# Explain by typing in the code to create and use the 'items' dictionary shown in section 4.6.\n",
        "# Explain each of the lines starting with '>>>' in the section.\n",
        "\n",
        "#First-Class indicates that any object one creates have the same options and privileges as basic classes like int, float, bool etc. they're different"
      ],
      "metadata": {
        "id": "9LRpP06Vsw6n"
      },
      "execution_count": null,
      "outputs": []
    },
    {
      "cell_type": "code",
      "source": [
        "# 4.7 Using None\n",
        "# Write a function that takes two parameters and returns their sum if they are\n",
        "#  integers or returns None if either one is not.\n",
        "\n",
        "# Put in some test code to show that your function works\n",
        "\n",
        "# INSERT YOUR CODE HERE\n",
        "def int_add(a,b):\n",
        "  if type(a) == int and type(b) == int:\n",
        "    return a + b\n",
        "  else: return None\n",
        "\n",
        "print(int_add(1,2))\n",
        "\n",
        "print(int_add(2,1.3))"
      ],
      "metadata": {
        "id": "dUhRWGnCtewU",
        "colab": {
          "base_uri": "https://localhost:8080/"
        },
        "outputId": "8545d2db-081a-45f3-85de-d1156289fd12"
      },
      "execution_count": 1,
      "outputs": [
        {
          "output_type": "stream",
          "name": "stdout",
          "text": [
            "3\n",
            "None\n"
          ]
        }
      ]
    },
    {
      "cell_type": "code",
      "source": [
        "# 4.9 Object Protocol\n",
        "# Create a simple object that has methods for:\n",
        "#  __new__\n",
        "#  __init__\n",
        "#  __del__\n",
        "#  __repr__\n",
        "#  __str__\n",
        "\n",
        "# Put in some test code to show how and when each of these 'magic' functions gets called.\n",
        "\n",
        "# INSERT YOUR CODE HERE\n",
        "\n",
        "gizmo_count = 0\n",
        "class Gizmo:\n",
        "  def __init__(self,content):\n",
        "    self.content = content\n",
        "    global gizmo_count\n",
        "    gizmo_count += 1\n",
        "  def __new__(cls,*args,**kwargs):\n",
        "    print(\"a new gizmo has been made!!\")\n",
        "    return super(Gizmo,cls).__new__(cls)\n",
        "  def __del__(self):\n",
        "    print(\"a gizmo has been destroyed :(\")\n",
        "    global gizmo_count\n",
        "    gizmo_count += -1\n",
        "  def __repr__(self):\n",
        "    return f'gizmo.{self.content}'\n",
        "  def __str__(self):\n",
        "    return self.content\n",
        "\n",
        "gizmo1 = Gizmo(\"hello\")\n",
        "print(gizmo_count)\n",
        "print(str(gizmo1))\n",
        "print(repr(gizmo1))\n",
        "del gizmo1\n",
        "print(gizmo_count)"
      ],
      "metadata": {
        "id": "4M-CQevEt2xQ",
        "colab": {
          "base_uri": "https://localhost:8080/"
        },
        "outputId": "94d23e21-d61f-441b-a265-dd9c37e8be3c"
      },
      "execution_count": null,
      "outputs": [
        {
          "output_type": "stream",
          "name": "stdout",
          "text": [
            "a new gizmo has been made!!\n",
            "1\n",
            "hello\n",
            "gizmo.hello\n",
            "a gizmo has been destroyed\n",
            "0\n"
          ]
        }
      ]
    },
    {
      "cell_type": "code",
      "source": [],
      "metadata": {
        "id": "WNhD1_kCr2wD"
      },
      "execution_count": null,
      "outputs": []
    }
  ]
}