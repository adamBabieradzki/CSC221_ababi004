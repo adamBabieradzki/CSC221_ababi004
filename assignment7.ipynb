{
  "nbformat": 4,
  "nbformat_minor": 0,
  "metadata": {
    "colab": {
      "provenance": [],
      "collapsed_sections": [
        "vD2IXEfrJg03"
      ],
      "toc_visible": true,
      "authorship_tag": "ABX9TyNXgQZM8FuJaa7Y3HTvshb4",
      "include_colab_link": true
    },
    "kernelspec": {
      "name": "python3",
      "display_name": "Python 3"
    },
    "language_info": {
      "name": "python"
    }
  },
  "cells": [
    {
      "cell_type": "markdown",
      "metadata": {
        "id": "view-in-github",
        "colab_type": "text"
      },
      "source": [
        "<a href=\"https://colab.research.google.com/github/adamBabieradzki/CSC221_ababi004/blob/main/assignment7.ipynb\" target=\"_parent\"><img src=\"https://colab.research.google.com/assets/colab-badge.svg\" alt=\"Open In Colab\"/></a>"
      ]
    },
    {
      "cell_type": "code",
      "execution_count": 1,
      "metadata": {
        "id": "yltuLi2AjSGG"
      },
      "outputs": [],
      "source": [
        "#Adam Babieradzki\n",
        "#Assignment 7"
      ]
    },
    {
      "cell_type": "markdown",
      "source": [
        "#Example Set 1"
      ],
      "metadata": {
        "id": "vD2IXEfrJg03"
      }
    },
    {
      "cell_type": "code",
      "source": [
        "alien_0 = {'color':'green','points': 5}\n",
        "\n",
        "print(alien_0['color'])\n",
        "print(alien_0['points'])"
      ],
      "metadata": {
        "colab": {
          "base_uri": "https://localhost:8080/"
        },
        "id": "lOLo8nDhBk4c",
        "outputId": "77404b45-7321-4352-d519-1c84ed44cb87"
      },
      "execution_count": 2,
      "outputs": [
        {
          "output_type": "stream",
          "name": "stdout",
          "text": [
            "green\n",
            "5\n"
          ]
        }
      ]
    },
    {
      "cell_type": "code",
      "source": [
        "new_points = alien_0['points']\n",
        "print(f'You just earned {new_points} points!')"
      ],
      "metadata": {
        "colab": {
          "base_uri": "https://localhost:8080/"
        },
        "id": "gfJlRQlzBzv-",
        "outputId": "3cba8671-0140-4d41-f0ca-4a93143f9a7c"
      },
      "execution_count": 4,
      "outputs": [
        {
          "output_type": "stream",
          "name": "stdout",
          "text": [
            "You just earned 5 points!\n"
          ]
        }
      ]
    },
    {
      "cell_type": "code",
      "source": [
        "alien_0['x_position'] = 0\n",
        "alien_0['y_position'] = 25\n",
        "print(alien_0)"
      ],
      "metadata": {
        "colab": {
          "base_uri": "https://localhost:8080/"
        },
        "id": "wxWZPaZwB7PZ",
        "outputId": "bc1808ef-9320-4081-f084-ff68a2511c30"
      },
      "execution_count": 5,
      "outputs": [
        {
          "output_type": "stream",
          "name": "stdout",
          "text": [
            "{'color': 'green', 'points': 5, 'x_position': 0, 'y_position': 25}\n"
          ]
        }
      ]
    },
    {
      "cell_type": "code",
      "source": [
        "alien_0 = {}\n",
        "alien_0['color'] = 'green'\n",
        "alien_0['points'] = 5\n",
        "\n",
        "print(alien_0)"
      ],
      "metadata": {
        "colab": {
          "base_uri": "https://localhost:8080/"
        },
        "id": "ew9eYTBICQB-",
        "outputId": "437bd601-2225-43cd-d398-752becebed41"
      },
      "execution_count": 6,
      "outputs": [
        {
          "output_type": "stream",
          "name": "stdout",
          "text": [
            "{'color': 'green', 'points': 5}\n"
          ]
        }
      ]
    },
    {
      "cell_type": "code",
      "source": [
        "alien_0 = {'color':'green'}\n",
        "print(f'The alien is {alien_0[\"color\"]}.')\n",
        "\n",
        "alien_0['color']\n",
        "print(f'The alien is now {alien_0[\"color\"]}.')"
      ],
      "metadata": {
        "colab": {
          "base_uri": "https://localhost:8080/"
        },
        "id": "TeCZ9ZWaCcba",
        "outputId": "bdcb5dba-ce12-4f81-8ddc-797b87b611f2"
      },
      "execution_count": 9,
      "outputs": [
        {
          "output_type": "stream",
          "name": "stdout",
          "text": [
            "The alien is green\n",
            "The alien is now green.\n"
          ]
        }
      ]
    },
    {
      "cell_type": "code",
      "source": [
        "alien_0 = {'x_position': 0,'y_position': 25,'speed':'medium'}\n",
        "print(f'Original x-position: {alien_0[\"x_position\"]}')\n",
        "\n",
        "if alien_0['speed'] == 'slow':\n",
        "  x_increment = 1\n",
        "elif alien_0['speed'] == 'medium':\n",
        "  x_increment = 2\n",
        "else:\n",
        "  x_increment = 3\n",
        "\n",
        "alien_0['x_position'] = alien_0['x_position'] + x_increment\n",
        "print(f'New x-position: {alien_0[\"x_position\"]}')\n",
        "\n",
        "alien_0['x_position'] = 0\n",
        "alien_0['speed'] = 'fast'\n",
        "\n",
        "if alien_0['speed'] == 'slow':\n",
        "  x_increment = 1\n",
        "elif alien_0['speed'] == 'medium':\n",
        "  x_increment = 2\n",
        "else:\n",
        "  x_increment = 3\n",
        "\n",
        "\n",
        "alien_0['x_position'] = alien_0['x_position'] + x_increment\n",
        "print(f'New x-position: {alien_0[\"x_position\"]}')\n"
      ],
      "metadata": {
        "colab": {
          "base_uri": "https://localhost:8080/"
        },
        "id": "M8xYOcymCuNH",
        "outputId": "7d1f18b3-570d-4bd3-d2fe-6223cdfa2239"
      },
      "execution_count": 15,
      "outputs": [
        {
          "output_type": "stream",
          "name": "stdout",
          "text": [
            "Original x-position: 0\n",
            "New x-position: 2\n",
            "New x-position: 3\n"
          ]
        }
      ]
    },
    {
      "cell_type": "code",
      "source": [
        "alien_0 = {'color': 'green','points':5}\n",
        "print(alien_0)\n",
        "\n",
        "del alien_0['points']\n",
        "print(alien_0)"
      ],
      "metadata": {
        "colab": {
          "base_uri": "https://localhost:8080/"
        },
        "id": "sdEgzYVkDVcD",
        "outputId": "af436f99-c464-47d1-96d3-a43e9023e146"
      },
      "execution_count": 17,
      "outputs": [
        {
          "output_type": "stream",
          "name": "stdout",
          "text": [
            "{'color': 'green', 'points': 5}\n",
            "{'color': 'green'}\n"
          ]
        }
      ]
    },
    {
      "cell_type": "code",
      "source": [
        "favorite_languages = {\n",
        " 'jen': 'python',\n",
        " 'sarah': 'c',\n",
        " 'edward': 'ruby',\n",
        " 'phil': 'python',\n",
        " }\n",
        "print(f\"Sarah's favorite language is {favorite_languages['sarah'].title()}.\")"
      ],
      "metadata": {
        "colab": {
          "base_uri": "https://localhost:8080/"
        },
        "id": "cUhsGXkwEa2j",
        "outputId": "6b3cf184-b4ec-4d7b-97ae-cee88c4c0ee5"
      },
      "execution_count": 20,
      "outputs": [
        {
          "output_type": "stream",
          "name": "stdout",
          "text": [
            "Sarah's favorite language is C.\n"
          ]
        }
      ]
    },
    {
      "cell_type": "markdown",
      "source": [
        "#Exercise Set 1"
      ],
      "metadata": {
        "id": "Aidkq4heKgSg"
      }
    },
    {
      "cell_type": "code",
      "source": [
        "#6-1\n",
        "person1 = {\n",
        "    \"first_name\": \"Adam\",\n",
        "    \"last_name\": \"Smith\",\n",
        "    \"age\": 21,\n",
        "    \"city\": \"Utica\"\n",
        "}\n",
        "print(f'My name is {person1[\"first_name\"]} {person1[\"last_name\"]}. I am {person1[\"age\"]} years old. I come from {person1[\"city\"]}.')"
      ],
      "metadata": {
        "colab": {
          "base_uri": "https://localhost:8080/"
        },
        "id": "JjHU3eYMKnou",
        "outputId": "559ce265-df0f-41f1-c1ff-2092165c23d6"
      },
      "execution_count": 23,
      "outputs": [
        {
          "output_type": "stream",
          "name": "stdout",
          "text": [
            "My name is Adam Smith. I am 21 years old. I come from Utica.\n"
          ]
        }
      ]
    },
    {
      "cell_type": "code",
      "source": [
        "#6-2\n",
        "fav_num = {\n",
        "    \"John\": 10,\n",
        "    \"Bill\": 7,\n",
        "    \"Jill\": 4,\n",
        "    \"Bohn\": 8\n",
        "}\n",
        "\n",
        "for keys, values in fav_num.items():\n",
        "  print(keys +\" \"+  str(values))"
      ],
      "metadata": {
        "colab": {
          "base_uri": "https://localhost:8080/"
        },
        "id": "ynHAyTo1LYqG",
        "outputId": "fd63556d-a64c-4b35-8656-c44c812e9f6b"
      },
      "execution_count": 31,
      "outputs": [
        {
          "output_type": "stream",
          "name": "stdout",
          "text": [
            "John 10\n",
            "Bill 7\n",
            "Jill 4\n",
            "Bohn 8\n"
          ]
        }
      ]
    },
    {
      "cell_type": "code",
      "source": [
        "#6-3\n",
        "gloss_1 = {\n",
        "    \"Loop\": \"A section of code that runs multiple times\",\n",
        "    \"Function\": \"A section of code that can be called with specific inputs and outputs\",\n",
        "    \"Variable\": \"A way of storing a data type or class into an object for futures use\"\n",
        "}\n",
        "for keys,values in gloss_1.items():\n",
        "  print(f'{keys}: \\n \\t {values}')"
      ],
      "metadata": {
        "colab": {
          "base_uri": "https://localhost:8080/"
        },
        "id": "Wi7i_JdCMwwZ",
        "outputId": "a205f3eb-56f3-4d12-9abe-1f4426ba8323"
      },
      "execution_count": 30,
      "outputs": [
        {
          "output_type": "stream",
          "name": "stdout",
          "text": [
            "Loop: \n",
            " \t A section of code that runs multiple times\n",
            "Function: \n",
            " \t A section of code that can be called with specific inputs and outputs\n",
            "Variable: \n",
            " \t A way of storing a data type or class into an object for futures use\n"
          ]
        }
      ]
    },
    {
      "cell_type": "markdown",
      "source": [
        "#Example Set 2"
      ],
      "metadata": {
        "id": "Ppmh6KCYOdH2"
      }
    },
    {
      "cell_type": "code",
      "source": [
        "user_0 = {\n",
        " 'username': 'efermi',\n",
        " 'first': 'enrico',\n",
        " 'last': 'fermi',\n",
        " }\n",
        "\n",
        "for keys, values in user_0.items():\n",
        "  print(\"\\nKey:\"+keys)\n",
        "  print(\"Value:\"+values)"
      ],
      "metadata": {
        "colab": {
          "base_uri": "https://localhost:8080/"
        },
        "id": "q9gvQ6E-N4aC",
        "outputId": "2df74a2e-576f-4297-e306-fc49bd159830"
      },
      "execution_count": 34,
      "outputs": [
        {
          "output_type": "stream",
          "name": "stdout",
          "text": [
            "\n",
            "Key:username\n",
            "Value:efermi\n",
            "\n",
            "Key:first\n",
            "Value:enrico\n",
            "\n",
            "Key:last\n",
            "Value:fermi\n"
          ]
        }
      ]
    },
    {
      "cell_type": "code",
      "source": [
        "favorite_languages = {\n",
        " 'jen': 'python',\n",
        " 'sarah': 'c',\n",
        " 'edward': 'ruby',\n",
        " 'phil': 'python',\n",
        " }\n",
        "\n",
        "for name,language in favorite_languages.items():\n",
        "  print(name.title() + \"'s favorite language is \"+ language.title()+\".\")\n",
        "\n",
        "for name in favorite_languages.keys():\n",
        "  print(name.title())"
      ],
      "metadata": {
        "colab": {
          "base_uri": "https://localhost:8080/"
        },
        "id": "g40NZ5iFOKmu",
        "outputId": "03425de4-c737-4e37-c33e-ee7448cf7888"
      },
      "execution_count": 42,
      "outputs": [
        {
          "output_type": "stream",
          "name": "stdout",
          "text": [
            "Jen's favorite language is Python.\n",
            "Sarah's favorite language is C.\n",
            "Edward's favorite language is Ruby.\n",
            "Phil's favorite language is Python.\n",
            "Jen\n",
            "Sarah\n",
            "Edward\n",
            "Phil\n"
          ]
        }
      ]
    },
    {
      "cell_type": "code",
      "source": [
        "friends = ['phil','sarah']\n",
        "for name in favorite_languages.keys():\n",
        "  print(name.title())\n",
        "\n",
        "  if name in friends:\n",
        "    print(\n",
        "        f'Hi {name.title()} I see your favorite language is {favorite_languages[name].title()}!'\n",
        "        )\n",
        "if \"erin\" not in favorite_languages.keys():\n",
        "  print(\"erin, please take our poll\")"
      ],
      "metadata": {
        "colab": {
          "base_uri": "https://localhost:8080/"
        },
        "id": "A5W3Vu3xPAvf",
        "outputId": "5afd7118-72d7-4806-ba6b-8e28774919cd"
      },
      "execution_count": 40,
      "outputs": [
        {
          "output_type": "stream",
          "name": "stdout",
          "text": [
            "Jen\n",
            "Sarah\n",
            "Hi Sarah I see your favorite language is C!\n",
            "Edward\n",
            "Phil\n",
            "Hi Phil I see your favorite language is Python!\n",
            "erin, please take our poll\n"
          ]
        }
      ]
    },
    {
      "cell_type": "code",
      "source": [
        "  for lang in set(favorite_languages.values()):\n",
        "    print(lang)"
      ],
      "metadata": {
        "colab": {
          "base_uri": "https://localhost:8080/"
        },
        "id": "NAJ-otxmP6dO",
        "outputId": "9c898d8c-1242-4967-f855-a0433e41849e"
      },
      "execution_count": 44,
      "outputs": [
        {
          "output_type": "stream",
          "name": "stdout",
          "text": [
            "python\n",
            "c\n",
            "ruby\n"
          ]
        }
      ]
    },
    {
      "cell_type": "code",
      "source": [
        "#6-4\n",
        "gloss_1 = {\n",
        "    \"Loop\": \"A section of code that runs multiple times\",\n",
        "    \"Function\": \"A section of code that can be called with specific inputs and outputs\",\n",
        "    \"Variable\": \"A way of storing a data type or class into an object for futures use\"\n",
        "}\n",
        "for keys,values in gloss_1.items():\n",
        "  print(f'{keys}: \\n \\t {values}')"
      ],
      "metadata": {
        "colab": {
          "base_uri": "https://localhost:8080/"
        },
        "id": "0G5i3v4QQuFy",
        "outputId": "add4c0b3-118c-438f-9310-5082dd220990"
      },
      "execution_count": 45,
      "outputs": [
        {
          "output_type": "stream",
          "name": "stdout",
          "text": [
            "Loop: \n",
            " \t A section of code that runs multiple times\n",
            "Function: \n",
            " \t A section of code that can be called with specific inputs and outputs\n",
            "Variable: \n",
            " \t A way of storing a data type or class into an object for futures use\n"
          ]
        }
      ]
    },
    {
      "cell_type": "markdown",
      "source": [
        "# Example Set 3"
      ],
      "metadata": {
        "id": "TwK2ceCoRFYe"
      }
    },
    {
      "cell_type": "code",
      "source": [
        "def createalien(color,points,speed=\"slow\"):\n",
        "    if isinstance(color,str) and isinstance(points,int) and isinstance(speed,str):\n",
        "      return {'color':color,'points':points,'speed':speed}\n",
        "\n",
        "alien_0 = createalien('green',5)\n",
        "alien_1 = createalien('yellow',10)\n",
        "alien_2 = createalien('red',15)\n",
        "\n",
        "aliens = [alien_0,alien_1,alien_2]\n",
        "for alien in aliens:\n",
        "  print(alien)\n",
        "\n",
        "aliens = []\n",
        "for alien_number in range(30):\n",
        "  new_alien = createalien(\"green\",5,\"slow\")\n",
        "  aliens.append(new_alien)\n",
        "\n",
        "print(\"# of Aliens: \"+str(len(aliens)))\n",
        "\n",
        "for alien in aliens[0:3]:\n",
        "  if alien['color'] == \"green\":\n",
        "    alien['color'] = 'yellow'\n",
        "    alien['speed'] = 'medium'\n",
        "    alien['points'] = 10\n",
        "  elif alien['color'] == 'yellow':\n",
        "    alien['color'] = \"red\"\n",
        "    alien['speed'] = \"fast\"\n",
        "    alien['points'] = 15\n",
        "\n",
        "\n",
        "for alien in aliens[1:4]:\n",
        "  if alien['color'] == \"green\":\n",
        "    alien['color'] = 'yellow'\n",
        "    alien['speed'] = 'medium'\n",
        "    alien['points'] = 10\n",
        "  elif alien['color'] == 'yellow':\n",
        "    alien['color'] = \"red\"\n",
        "    alien['speed'] = \"fast\"\n",
        "    alien['points'] = 15\n",
        "\n",
        "for alien in aliens[0:5]:\n",
        "  print(alien)\n"
      ],
      "metadata": {
        "colab": {
          "base_uri": "https://localhost:8080/"
        },
        "id": "kt37-Ui7RJyd",
        "outputId": "a70bae84-8bda-42ce-b8c0-60ee229b0540"
      },
      "execution_count": 61,
      "outputs": [
        {
          "output_type": "stream",
          "name": "stdout",
          "text": [
            "{'color': 'green', 'points': 5, 'speed': 'slow'}\n",
            "{'color': 'yellow', 'points': 10, 'speed': 'slow'}\n",
            "{'color': 'red', 'points': 15, 'speed': 'slow'}\n",
            "# of Aliens: 30\n",
            "{'color': 'yellow', 'points': 10, 'speed': 'medium'}\n",
            "{'color': 'red', 'points': 15, 'speed': 'fast'}\n",
            "{'color': 'red', 'points': 15, 'speed': 'fast'}\n",
            "{'color': 'yellow', 'points': 10, 'speed': 'medium'}\n",
            "{'color': 'green', 'points': 5, 'speed': 'slow'}\n"
          ]
        }
      ]
    },
    {
      "cell_type": "code",
      "source": [
        "pizza = {\n",
        "    'crust' : 'thick',\n",
        "    'toppings' : ['Mushroom','Extra Cheese']\n",
        "}\n",
        "\n",
        "print(f'You ordered a {pizza[\"crust\"]}-crust \\n with the following toppings:')\n",
        "for i in pizza['toppings']:\n",
        "  print(f'\\t{i}')"
      ],
      "metadata": {
        "colab": {
          "base_uri": "https://localhost:8080/"
        },
        "id": "CBde8hYdR32W",
        "outputId": "4d8566e0-5e71-40c5-8963-a15e029dd37c"
      },
      "execution_count": 63,
      "outputs": [
        {
          "output_type": "stream",
          "name": "stdout",
          "text": [
            "You ordered a thick-crust \n",
            " with the following toppings:\n",
            "\tMushroom\n",
            "\tExtra Cheese\n"
          ]
        }
      ]
    },
    {
      "cell_type": "code",
      "source": [
        "favorite_languages = {\n",
        "  'jen': ['python', 'ruby'],\n",
        "  'sarah': ['c'],\n",
        "  'edward': ['ruby', 'go'],\n",
        "  'phil': ['python', 'haskell'],\n",
        "}\n",
        "for name, languages in favorite_languages.items():\n",
        "  print(f\"\\n{name.title()}'s favorite languages are:\")\n",
        "  for language in languages:\n",
        "    print(f\"\\t{language.title()}\")"
      ],
      "metadata": {
        "colab": {
          "base_uri": "https://localhost:8080/"
        },
        "id": "l0lr4tbJUvk_",
        "outputId": "23e3458f-bef9-4f51-a012-dcd4b5337b7a"
      },
      "execution_count": 64,
      "outputs": [
        {
          "output_type": "stream",
          "name": "stdout",
          "text": [
            "\n",
            "Jen's favorite languages are:\n",
            "\tPython\n",
            "\tRuby\n",
            "\n",
            "Sarah's favorite languages are:\n",
            "\tC\n",
            "\n",
            "Edward's favorite languages are:\n",
            "\tRuby\n",
            "\tGo\n",
            "\n",
            "Phil's favorite languages are:\n",
            "\tPython\n",
            "\tHaskell\n"
          ]
        }
      ]
    },
    {
      "cell_type": "code",
      "source": [
        "users = {\n",
        " 'aeinstein': {\n",
        "  'first': 'albert',\n",
        "  'last': 'einstein',\n",
        "  'location': 'princeton',\n",
        " },\n",
        " 'mcurie': {\n",
        "  'first': 'marie',\n",
        "  'last': 'curie',\n",
        "  'location': 'paris',\n",
        " },\n",
        " }\n",
        "for username, user_info in users.items():\n",
        "  print(f'\\nUsername: {username}')\n",
        "  full_name = user_info['first']+\" \"+user_info['last']\n",
        "  location = user_info['location']\n",
        "\n",
        "  print(f'Full Name: {full_name.title()}')\n",
        "  print(f'Location: {location.title()}')"
      ],
      "metadata": {
        "colab": {
          "base_uri": "https://localhost:8080/"
        },
        "id": "2XQZuFC7VrCa",
        "outputId": "59a5b77d-b986-4a19-a931-30abc56d2140"
      },
      "execution_count": 67,
      "outputs": [
        {
          "output_type": "stream",
          "name": "stdout",
          "text": [
            "\n",
            "Username: aeinstein\n",
            "Full Name: Albert Einstein\n",
            "Location: Princeton\n",
            "\n",
            "Username: mcurie\n",
            "Full Name: Marie Curie\n",
            "Location: Paris\n"
          ]
        }
      ]
    },
    {
      "cell_type": "markdown",
      "source": [
        "#6-12"
      ],
      "metadata": {
        "id": "oS8TYb4aWhJF"
      }
    },
    {
      "cell_type": "code",
      "source": [
        "users = {\n",
        " 'aeinstein': {\n",
        "  'first': 'albert',\n",
        "  'last': 'einstein',\n",
        "  'location': 'princeton',\n",
        " },\n",
        " 'mcurie': {\n",
        "  'first': 'marie',\n",
        "  'last': 'curie',\n",
        "  'location': 'paris',\n",
        " },\n",
        " }\n",
        "class Login:\n",
        "  def __init__(self):\n",
        "    self.content = {}\n",
        "  def add_user(self,full_name,location):\n",
        "    if (isinstance(full_name,str) and isinstance(location,str)) and len(full_name.split())==2:\n",
        "      temp1 = full_name.split()\n",
        "      temp2 = temp1[0][0]\n",
        "      temp3 = temp1[1]\n",
        "      username = temp2.lower()+temp3.lower()\n",
        "      first = temp1[0]\n",
        "      last = temp1[1]\n",
        "      self.content[username] = {\n",
        "          \"first\": first,\n",
        "          \"last\": last,\n",
        "          \"location\":location,\n",
        "          \"is_admin\":False\n",
        "      }\n",
        "      print(f'{username} added successfully')\n",
        "    else: print('input error')\n",
        "  def rm_user(self,name):\n",
        "    if name in self.content.keys():\n",
        "      del self.content[name]\n",
        "      print('user successfully deleted')\n",
        "    else: print('user DNE')\n",
        "  def elevate(self,name):\n",
        "    if name in self.content.keys():\n",
        "      self.content[name]['is_admin'] = True\n",
        "      print(self.content[name])\n",
        "    else: print('user DNE')\n",
        "\n",
        "login_manager = Login()\n",
        "login_manager.add_user(\"Adam Babieradzki\",\"Plattsburgh\")\n",
        "login_manager.elevate('ababieradzki')\n",
        "login_manager.add_user(\"John Smith\",\"New York\")\n",
        "login_manager.add_user(\"John\",\"Plattsburgh\")"
      ],
      "metadata": {
        "colab": {
          "base_uri": "https://localhost:8080/"
        },
        "id": "dn5uvNzHWk3Y",
        "outputId": "9cb12a08-edce-46d5-8078-2215e3f650ca"
      },
      "execution_count": 87,
      "outputs": [
        {
          "output_type": "stream",
          "name": "stdout",
          "text": [
            "ababieradzki added successfully\n",
            "{'first': 'Adam', 'last': 'Babieradzki', 'location': 'Plattsburgh', 'is_admin': True}\n",
            "jsmith added successfully\n",
            "input error\n"
          ]
        }
      ]
    },
    {
      "cell_type": "code",
      "source": [],
      "metadata": {
        "id": "1Qg9Uo8SYNR_"
      },
      "execution_count": null,
      "outputs": []
    }
  ]
}