{
  "nbformat": 4,
  "nbformat_minor": 0,
  "metadata": {
    "colab": {
      "provenance": [],
      "authorship_tag": "ABX9TyOaNh45pvlyMSXcLYi4c838",
      "include_colab_link": true
    },
    "kernelspec": {
      "name": "python3",
      "display_name": "Python 3"
    },
    "language_info": {
      "name": "python"
    }
  },
  "cells": [
    {
      "cell_type": "markdown",
      "metadata": {
        "id": "view-in-github",
        "colab_type": "text"
      },
      "source": [
        "<a href=\"https://colab.research.google.com/github/adamBabieradzki/CSC221_ababi004/blob/main/Assignment_11.ipynb\" target=\"_parent\"><img src=\"https://colab.research.google.com/assets/colab-badge.svg\" alt=\"Open In Colab\"/></a>"
      ]
    },
    {
      "cell_type": "markdown",
      "source": [
        "#Adam Babieradzki\n",
        "#Assignment 11"
      ],
      "metadata": {
        "id": "vD7KTdDwKd-v"
      }
    },
    {
      "cell_type": "code",
      "execution_count": null,
      "metadata": {
        "colab": {
          "base_uri": "https://localhost:8080/"
        },
        "id": "IdNF74BkH8Cf",
        "outputId": "39936b25-5cf7-4cf6-91ca-2581d00dd84e"
      },
      "outputs": [
        {
          "output_type": "stream",
          "name": "stdout",
          "text": [
            "My dog's name is Willie.\n",
            "willie\n",
            "My dog is 6 years old\n",
            "Willie is now sitting.\n",
            "Willie rolled over!\n",
            "\n",
            "Your dog's name is Lucy.\n",
            "Your dog is 3 years old.\n",
            "Lucy is now sitting.\n",
            "Lucy rolled over!\n"
          ]
        }
      ],
      "source": [
        "class Dog():\n",
        "  def __init__(self,name,age):\n",
        "    self.name = name\n",
        "    self.age = age\n",
        "\n",
        "  def sit(self):\n",
        "    print(self.name.title()+\" is now sitting.\")\n",
        "\n",
        "  def roll_over(self):\n",
        "    print(self.name.title() + \" rolled over!\")\n",
        "\n",
        "my_dog = Dog('willie', 6)\n",
        "your_dog = Dog('lucy',3)\n",
        "\n",
        "print(f\"My dog's name is {my_dog.name.title()}.\")\n",
        "print(my_dog.name)\n",
        "print(f\"My dog is {my_dog.age} years old\")\n",
        "my_dog.sit()\n",
        "my_dog.roll_over()\n",
        "\n",
        "print(f\"\\nYour dog's name is {your_dog.name.title()}.\")\n",
        "print(f\"Your dog is {your_dog.age} years old.\")\n",
        "your_dog.sit()\n",
        "your_dog.roll_over()"
      ]
    },
    {
      "cell_type": "code",
      "source": [
        "class Car:\n",
        "  def __init__(self,make,model,year):\n",
        "    self.make = make\n",
        "    self.model = model\n",
        "    self.year = year\n",
        "    self.odometer_reading = 0\n",
        "  def get_descriptive_name(self):\n",
        "    long_name = f'{self.year} {self.make} {self.model}'\n",
        "    return long_name.title()\n",
        "  def read_odometer(self):\n",
        "    print(f'This car has {self.odometer_reading} miles on it')\n",
        "  def update_odometer(self, mileage):\n",
        "    if self.odometer_reading <= mileage:\n",
        "      self.odometer_reading = mileage\n",
        "    else:\n",
        "      print(\"You can't roll back an Odometer.\")\n",
        "  def increment_odometer(self, inp):\n",
        "    if inp > 0:\n",
        "      self.odometer_reading += inp\n",
        "\n",
        "class ElectricCar(Car):\n",
        "  def __init__(self,make,model,year):\n",
        "    super().__init__(make, model, year)\n",
        "    self.car_battery = Battery()\n",
        "\n",
        "  def fill_gas_tank(self):\n",
        "    print(\"This is an electric car, it does not have a gas tank\")\n",
        "\n",
        "class Battery:\n",
        "  def __init__(self,battery_size=70):\n",
        "    self.size = battery_size\n",
        "  def describe_battery(self):\n",
        "    print(f'This car has a {self.size}-kWh battery')\n",
        "  def get_range(self):\n",
        "    if self.size == 70:\n",
        "      range = 240\n",
        "    elif self.size == 85:\n",
        "      range = 270\n",
        "    message = f'This car can go approximetly {range}\\n'\n",
        "    message += f'miles on a full charge'\n",
        "    print(message)\n",
        "my_tesla = ElectricCar(\"Tesla\",\"Model S\",\"2021\")\n",
        "my_tesla.car_battery.describe_battery()\n",
        "my_tesla.car_battery.get_range()\n",
        "print(my_tesla.get_descriptive_name())\n",
        "car1 = Car(\"audi\",\"a4\",\"2015\")\n",
        "print(car1.get_descriptive_name())\n",
        "car1.read_odometer()\n",
        "\n",
        "car1.odometer_reading = 23\n",
        "car1.read_odometer()\n",
        "\n",
        "car1.update_odometer(300)\n",
        "car1.update_odometer(200)\n",
        "car1.increment_odometer(500)\n",
        "car1.read_odometer()"
      ],
      "metadata": {
        "colab": {
          "base_uri": "https://localhost:8080/"
        },
        "id": "uI3TZZyuTxjN",
        "outputId": "a00fed1d-3b65-44bf-9dbf-c74faa821fcc"
      },
      "execution_count": 10,
      "outputs": [
        {
          "output_type": "stream",
          "name": "stdout",
          "text": [
            "This car has a 70-kWh battery\n",
            "This car can go approximetly 240\n",
            "miles on a full charge\n",
            "2021 Tesla Model S\n",
            "2015 Audi A4\n",
            "This car has 0 miles on it\n",
            "This car has 23 miles on it\n",
            "You can't roll back an Odometer.\n",
            "This car has 800 miles on it\n"
          ]
        }
      ]
    },
    {
      "cell_type": "code",
      "source": [
        "#TIY 9-1\n",
        "class Restaurant:\n",
        "  def __init__(self,name,cuisine):\n",
        "    self.name = name\n",
        "    self.cuisine = cuisine\n",
        "  def describe_restaurant(self):\n",
        "    print(f\"{self.name} is a resteruant that cooks {self.cuisine} food.\")\n",
        "  def open(self):\n",
        "    print(f\"{self.name} is now open\")\n",
        "\n",
        "restaurant1 = Restaurant(\"Sawatdee\",\"Thai\")\n",
        "restaurant1.describe_restaurant()\n",
        "restaurant1.open()\n",
        "#TIY 9-2\n",
        "restaurant2 = Restaurant(\"Chic-fil-a\",\"Fast Food\")\n",
        "restaurant3 = Restaurant(\"Dominos\",\"Pizza\")\n",
        "\n",
        "restaurants = [restaurant1,restaurant2,restaurant3]\n",
        "for rest in restaurants:\n",
        "  print(rest.describe_restaurant())"
      ],
      "metadata": {
        "colab": {
          "base_uri": "https://localhost:8080/"
        },
        "id": "DY2lAvKkJfKs",
        "outputId": "c4b8c6b6-7a48-420b-8d43-6b148fc184de"
      },
      "execution_count": 22,
      "outputs": [
        {
          "output_type": "stream",
          "name": "stdout",
          "text": [
            "Sawatdee is a resteruant that cooks Thai food.\n",
            "Sawatdee is now open\n",
            "Sawatdee is a resteruant that cooks Thai food.\n",
            "None\n",
            "Chic-fil-a is a resteruant that cooks Fast Food food.\n",
            "None\n",
            "Dominos is a resteruant that cooks Pizza food.\n",
            "None\n"
          ]
        }
      ]
    },
    {
      "cell_type": "code",
      "source": [
        "#TIY 9-3\n",
        "\n",
        "class User:\n",
        "  def __init__(self,name,birthday):\n",
        "    self.first_name = name.split()[0]\n",
        "    self.last_name = name.split()[1]\n",
        "    self.birthday = birthday\n",
        "  def describe_user(self):\n",
        "    print(f'First Name: {self.first_name}')\n",
        "    print(f'Last Name: {self.last_name}')\n",
        "    print(f'DOB: {self.birthday}')\n",
        "  def greet_user(self):\n",
        "    print(f'Hello {self.first_name} {self.last_name} how are you doing.')\n",
        "\n",
        "user1 = User(\"John Smith\",\"1/1/2000\")\n",
        "user2 = User(\"Jane Doe\",\"11/12/1999\")\n",
        "user3 = User(\"Adam Brown\",\"6/30/2001\")\n",
        "\n",
        "userlist = [user1,user2,user3]\n",
        "for user in userlist:\n",
        "  user.describe_user()\n",
        "  user.greet_user()\n",
        "\n",
        "#TIY 9-7\n",
        "class Admin(User):\n",
        "  def __init__(self,name,birthday):\n",
        "    super().__init__(name,birthday)\n",
        "    self.privs = [\"Can delete posts\",\"Can ban users\",\"Can delete accounts\"]\n",
        "  def show_privs(self):\n",
        "    print(self.privs)\n",
        "\n",
        "admin1 = Admin(\"Charles Gray\",\"1/1/1985\")\n",
        "admin1.show_privs()"
      ],
      "metadata": {
        "id": "FVDU-6joLjKJ",
        "colab": {
          "base_uri": "https://localhost:8080/"
        },
        "outputId": "14e972c7-4ae6-40ae-adac-4fbfd031595f"
      },
      "execution_count": 21,
      "outputs": [
        {
          "output_type": "stream",
          "name": "stdout",
          "text": [
            "First Name: John\n",
            "Last Name: Smith\n",
            "DOB: 1/1/2000\n",
            "Hello John Smith how are you doing.\n",
            "First Name: Jane\n",
            "Last Name: Doe\n",
            "DOB: 11/12/1999\n",
            "Hello Jane Doe how are you doing.\n",
            "First Name: Adam\n",
            "Last Name: Brown\n",
            "DOB: 6/30/2001\n",
            "Hello Adam Brown how are you doing.\n",
            "['Can delete posts', 'Can ban users', 'Can delete accounts']\n"
          ]
        }
      ]
    },
    {
      "cell_type": "code",
      "source": [
        "#TIY 9-6\n",
        "class IceCreamStand(Restaurant):\n",
        "  def __init__(self,name,cuisine=\"Ice Cream Stand\"):\n",
        "    super().__init__(name,cuisine)\n",
        "    self.flavors = [\"Chocolate\",\"Vanilla\",\"Strawberry\",\"Cookies and Cream\"]\n",
        "  def display_flavors(self):\n",
        "    print(f'{self.name}: Our Flavors are')\n",
        "    for flavor in self.flavors:\n",
        "      print(flavor)\n",
        "\n",
        "pie_in_the_sky = IceCreamStand(\"Pie in the Sky\")\n",
        "pie_in_the_sky.display_flavors()"
      ],
      "metadata": {
        "id": "1II0RQDLOYmT",
        "colab": {
          "base_uri": "https://localhost:8080/"
        },
        "outputId": "c815d2da-0934-46cc-d101-b0616ee5a3b5"
      },
      "execution_count": 23,
      "outputs": [
        {
          "output_type": "stream",
          "name": "stdout",
          "text": [
            "Pie in the Sky: Our Flavors are\n",
            "Chocolate\n",
            "Vanilla\n",
            "Strawberry\n",
            "Cookies and Cream\n"
          ]
        }
      ]
    },
    {
      "cell_type": "code",
      "source": [],
      "metadata": {
        "id": "t4q_3Xb1OlAG"
      },
      "execution_count": null,
      "outputs": []
    }
  ]
}