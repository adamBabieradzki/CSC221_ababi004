{
  "nbformat": 4,
  "nbformat_minor": 0,
  "metadata": {
    "colab": {
      "provenance": [],
      "authorship_tag": "ABX9TyPVEHG210PI6y6zEXRUP/h3",
      "include_colab_link": true
    },
    "kernelspec": {
      "name": "python3",
      "display_name": "Python 3"
    },
    "language_info": {
      "name": "python"
    }
  },
  "cells": [
    {
      "cell_type": "markdown",
      "metadata": {
        "id": "view-in-github",
        "colab_type": "text"
      },
      "source": [
        "<a href=\"https://colab.research.google.com/github/adamBabieradzki/CSC221_ababi004/blob/main/assignment5.ipynb\" target=\"_parent\"><img src=\"https://colab.research.google.com/assets/colab-badge.svg\" alt=\"Open In Colab\"/></a>"
      ]
    },
    {
      "cell_type": "code",
      "execution_count": 19,
      "metadata": {
        "colab": {
          "base_uri": "https://localhost:8080/"
        },
        "id": "f4MhSwCADQih",
        "outputId": "d2f0953d-eefb-40e8-b5b3-2fd5aadbdb41"
      },
      "outputs": [
        {
          "output_type": "stream",
          "name": "stdout",
          "text": [
            "pepperoni\n",
            "supreme\n",
            "hawaiian\n",
            "pepperoni\n",
            "supreme\n",
            "hawaiian\n",
            "meat lovers\n"
          ]
        }
      ],
      "source": [
        "pizza = [\"pepperoni\",\"supreme\",\"hawaiian\"]\n",
        "#for i in pizza:\n",
        "#  print(i)\n",
        "\n",
        "friends_pizza = pizza\n",
        "for i in friends_pizza:print(i)\n",
        "pizza.append(\"meat lovers\")\n",
        "for i in pizza:print(i)\n"
      ]
    },
    {
      "cell_type": "code",
      "source": [
        "for i in pizza:\n",
        "  print(f'I like {i} pizza')\n",
        "print(\"I don't like pizza that much :3\")"
      ],
      "metadata": {
        "id": "mzPGg49ltiFM"
      },
      "execution_count": null,
      "outputs": []
    },
    {
      "cell_type": "code",
      "source": [
        "#4-2 is the same thign\n",
        "for i in range(1,21):\n",
        "  print(i)\n",
        "#4-4 same thing, don't wanna have a ten mile outpu"
      ],
      "metadata": {
        "id": "VWfZAW2oqeyS"
      },
      "execution_count": null,
      "outputs": []
    },
    {
      "cell_type": "code",
      "source": [
        "for i in range(1,20,2):print(i)\n",
        "for i in range(3,33,3):print(i)"
      ],
      "metadata": {
        "id": "TOupXeytuDTe"
      },
      "execution_count": null,
      "outputs": []
    },
    {
      "cell_type": "code",
      "source": [
        "for i in range(1,11):print(i**3)"
      ],
      "metadata": {
        "id": "PHJPTFpauXl1"
      },
      "execution_count": null,
      "outputs": []
    },
    {
      "cell_type": "code",
      "source": [
        "print([x**3 for x in range(1,11)])"
      ],
      "metadata": {
        "colab": {
          "base_uri": "https://localhost:8080/"
        },
        "id": "Ei5hBnHYutob",
        "outputId": "07dbb32b-62f7-448c-f9df-ea6edca97ee6"
      },
      "execution_count": 12,
      "outputs": [
        {
          "output_type": "stream",
          "name": "stdout",
          "text": [
            "[1, 8, 27, 64, 125, 216, 343, 512, 729, 1000]\n"
          ]
        }
      ]
    },
    {
      "cell_type": "code",
      "source": [
        "def special_factorial(x):\n",
        "  product = 1\n",
        "  lisx = [i for i in range(1,x+1)]\n",
        "  for i in lisx:\n",
        "    if i not in [4,13,22]: #this if statement is the only difference between factorial and special factorial, very happy this worked the way i thought it would\n",
        "      product *= i\n",
        "  return product\n",
        "\n",
        "\n",
        "special_factorial(50)"
      ],
      "metadata": {
        "colab": {
          "base_uri": "https://localhost:8080/"
        },
        "id": "RUmp9XbSvFKs",
        "outputId": "f14160bc-5122-47b1-8fcc-df624b09bf16"
      },
      "execution_count": 56,
      "outputs": [
        {
          "output_type": "execute_result",
          "data": {
            "text/plain": [
              "26585745805693512275885146998308364374455980392448000000000000"
            ]
          },
          "metadata": {},
          "execution_count": 56
        }
      ]
    },
    {
      "cell_type": "code",
      "source": [
        "\"\""
      ],
      "metadata": {
        "id": "SLuMIcCC8Okl"
      },
      "execution_count": null,
      "outputs": []
    }
  ]
}