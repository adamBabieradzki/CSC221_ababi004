{
  "nbformat": 4,
  "nbformat_minor": 0,
  "metadata": {
    "colab": {
      "provenance": [],
      "authorship_tag": "ABX9TyNMRnDN9mo6978FmeEetihL",
      "include_colab_link": true
    },
    "kernelspec": {
      "name": "python3",
      "display_name": "Python 3"
    },
    "language_info": {
      "name": "python"
    }
  },
  "cells": [
    {
      "cell_type": "markdown",
      "metadata": {
        "id": "view-in-github",
        "colab_type": "text"
      },
      "source": [
        "<a href=\"https://colab.research.google.com/github/adamBabieradzki/CSC221_ababi004/blob/main/assignment_23_25_ipnyb.ipynb\" target=\"_parent\"><img src=\"https://colab.research.google.com/assets/colab-badge.svg\" alt=\"Open In Colab\"/></a>"
      ]
    },
    {
      "cell_type": "code",
      "source": [
        "import functools\n",
        "#1\n",
        "def func1(a,b):\n",
        "  return a + b\n",
        "print(func1(1,2))\n",
        "\n",
        "print(func1(\"Adam\",\"Babieradzki\"))\n",
        "print(func1(1,2))\n",
        "#2\n",
        "def func2(*s):\n",
        "  multiple = 1\n",
        "  for i in s:\n",
        "    multiple = multiple * i\n",
        "  return multiple\n",
        "\n",
        "print(func2(1,3,5,10))\n",
        "#3\n",
        "def func3(**kwargs):\n",
        "  first_names = []\n",
        "  last_names = []\n",
        "  for i, j in kwargs.items():\n",
        "    first_names.append(i)\n",
        "    last_names.append(j)\n",
        "  return {\"First Names\": first_names,\"Last Names\": last_names}\n",
        "\n",
        "func3(Adam=\"Babieradzki\",John=\"Smith\")\n",
        "#4\n",
        "def func4(*args:int,**kwargs:str) -> int:\n",
        "  operator = None\n",
        "  summ = 0\n",
        "  if \"operator\" in kwargs.keys():\n",
        "    if kwargs['operator'] in (\"+\",\"-\"):\n",
        "      operator = kwargs['operator']\n",
        "  for arg in args:\n",
        "    if operator == \"+\":\n",
        "      summ += arg\n",
        "    elif operator == \"-\":\n",
        "      summ += -arg\n",
        "    else:\n",
        "      print(\"No operator given\")\n",
        "  return summ\n",
        "\n",
        "func4(1,3,4,5,6,operator=\"+\")\n",
        "\n",
        "#5\n",
        "change_me = None\n",
        "def func5(a):\n",
        "  global change_me\n",
        "  change_me = a\n",
        "\n",
        "print(change_me)\n",
        "func5(4)\n",
        "print(change_me)\n",
        "\n",
        "#6\n",
        "fruits = [\"pineapple\",\"apple\",\"banana\",\"orange\"]\n",
        "sort_str = lambda list1 : sorted(list1,key=lambda word: sum(1 for char in word if char.lower() in 'aeiou'))\n",
        "\n",
        "sort_str(fruits)\n",
        "\n",
        "#7\n",
        "\n",
        "def logger(func):\n",
        "  def wrapper(*args,**kwargs):\n",
        "    logfile = open(\"log.txt\",mode=\"w\")\n",
        "    logfile.write(f\"Calling function: {func.__name__}()\\n\")\n",
        "    value = func(*args,**kwargs)\n",
        "    logfile.write(f'Output of function is: {value}')\n",
        "    logfile.close()\n",
        "  return wrapper\n",
        "\n",
        "@logger\n",
        "def helloworld():\n",
        "  return \"Hello World\"\n",
        "\n",
        "@logger\n",
        "def math(*args):\n",
        "  sum = 0\n",
        "  for arg in args:\n",
        "    sum += arg\n",
        "  return sum\n",
        "\n",
        "helloworld()\n",
        "math(1,2,3,4,5,6,7,9)\n",
        "\n",
        "#8\n",
        "input_list1 = [1,2,4]\n",
        "input_list2 = [4,3,1]\n",
        "\n",
        "list(map(func1,input_list1,input_list2))\n",
        "\n",
        "def filter_letters(letter):\n",
        "  screen = ['a','e','i','o','u']\n",
        "  if letter in screen:\n",
        "      return True\n",
        "  else:\n",
        "      return False\n",
        "list1 = [\"a\",\"d\",\"a\",\"a\",\"m\"]\n",
        "out = filter(filter_letters,list1)\n",
        "print([x for x in out])\n",
        "\n",
        "\n",
        "#reduce()\n",
        "def reduce_function(a,b):\n",
        "  if a > b:\n",
        "    return a\n",
        "  else:\n",
        "    return b\n",
        "\n",
        "functools.reduce(reduce_function,[8,2,3,4,5,6,7])"
      ],
      "metadata": {
        "colab": {
          "base_uri": "https://localhost:8080/"
        },
        "id": "rgshvff3zN5x",
        "outputId": "f183c226-dd9c-4a73-b6cc-87c8fb799a83"
      },
      "execution_count": null,
      "outputs": [
        {
          "output_type": "stream",
          "name": "stdout",
          "text": [
            "3\n",
            "AdamBabieradzki\n",
            "3\n",
            "150\n",
            "None\n",
            "4\n",
            "['a', 'a', 'a']\n"
          ]
        },
        {
          "output_type": "execute_result",
          "data": {
            "text/plain": [
              "8"
            ]
          },
          "metadata": {},
          "execution_count": 23
        }
      ]
    },
    {
      "cell_type": "code",
      "execution_count": 17,
      "metadata": {
        "id": "KkDDExB8zKDH",
        "colab": {
          "base_uri": "https://localhost:8080/",
          "height": 425
        },
        "outputId": "e409719a-f677-47bc-f3c2-56f7da08a619"
      },
      "outputs": [
        {
          "output_type": "stream",
          "name": "stdout",
          "text": [
            "Calcualte: 5+3-8/12\n",
            "Result: 7.333333333333333\n"
          ]
        },
        {
          "output_type": "error",
          "ename": "KeyboardInterrupt",
          "evalue": "ignored",
          "traceback": [
            "\u001b[0;31m---------------------------------------------------------------------------\u001b[0m",
            "\u001b[0;31mKeyboardInterrupt\u001b[0m                         Traceback (most recent call last)",
            "\u001b[0;32m<ipython-input-17-0aefa327d884>\u001b[0m in \u001b[0;36m<cell line: 3>\u001b[0;34m()\u001b[0m\n\u001b[1;32m      2\u001b[0m \u001b[0;34m\u001b[0m\u001b[0m\n\u001b[1;32m      3\u001b[0m \u001b[0;32mwhile\u001b[0m \u001b[0;32mTrue\u001b[0m\u001b[0;34m:\u001b[0m\u001b[0;34m\u001b[0m\u001b[0;34m\u001b[0m\u001b[0m\n\u001b[0;32m----> 4\u001b[0;31m     \u001b[0musr_input\u001b[0m \u001b[0;34m=\u001b[0m \u001b[0minput\u001b[0m\u001b[0;34m(\u001b[0m\u001b[0;34m\"Calcualte: \"\u001b[0m\u001b[0;34m)\u001b[0m\u001b[0;34m\u001b[0m\u001b[0;34m\u001b[0m\u001b[0m\n\u001b[0m\u001b[1;32m      5\u001b[0m     \u001b[0;32mif\u001b[0m \u001b[0musr_input\u001b[0m \u001b[0;34m==\u001b[0m \u001b[0;34m'q'\u001b[0m\u001b[0;34m:\u001b[0m \u001b[0;32mbreak\u001b[0m\u001b[0;34m\u001b[0m\u001b[0;34m\u001b[0m\u001b[0m\n\u001b[1;32m      6\u001b[0m     \u001b[0;32mtry\u001b[0m\u001b[0;34m:\u001b[0m\u001b[0;34m\u001b[0m\u001b[0;34m\u001b[0m\u001b[0m\n",
            "\u001b[0;32m/usr/local/lib/python3.10/dist-packages/ipykernel/kernelbase.py\u001b[0m in \u001b[0;36mraw_input\u001b[0;34m(self, prompt)\u001b[0m\n\u001b[1;32m    849\u001b[0m                 \u001b[0;34m\"raw_input was called, but this frontend does not support input requests.\"\u001b[0m\u001b[0;34m\u001b[0m\u001b[0;34m\u001b[0m\u001b[0m\n\u001b[1;32m    850\u001b[0m             )\n\u001b[0;32m--> 851\u001b[0;31m         return self._input_request(str(prompt),\n\u001b[0m\u001b[1;32m    852\u001b[0m             \u001b[0mself\u001b[0m\u001b[0;34m.\u001b[0m\u001b[0m_parent_ident\u001b[0m\u001b[0;34m,\u001b[0m\u001b[0;34m\u001b[0m\u001b[0;34m\u001b[0m\u001b[0m\n\u001b[1;32m    853\u001b[0m             \u001b[0mself\u001b[0m\u001b[0;34m.\u001b[0m\u001b[0m_parent_header\u001b[0m\u001b[0;34m,\u001b[0m\u001b[0;34m\u001b[0m\u001b[0;34m\u001b[0m\u001b[0m\n",
            "\u001b[0;32m/usr/local/lib/python3.10/dist-packages/ipykernel/kernelbase.py\u001b[0m in \u001b[0;36m_input_request\u001b[0;34m(self, prompt, ident, parent, password)\u001b[0m\n\u001b[1;32m    893\u001b[0m             \u001b[0;32mexcept\u001b[0m \u001b[0mKeyboardInterrupt\u001b[0m\u001b[0;34m:\u001b[0m\u001b[0;34m\u001b[0m\u001b[0;34m\u001b[0m\u001b[0m\n\u001b[1;32m    894\u001b[0m                 \u001b[0;31m# re-raise KeyboardInterrupt, to truncate traceback\u001b[0m\u001b[0;34m\u001b[0m\u001b[0;34m\u001b[0m\u001b[0m\n\u001b[0;32m--> 895\u001b[0;31m                 \u001b[0;32mraise\u001b[0m \u001b[0mKeyboardInterrupt\u001b[0m\u001b[0;34m(\u001b[0m\u001b[0;34m\"Interrupted by user\"\u001b[0m\u001b[0;34m)\u001b[0m \u001b[0;32mfrom\u001b[0m \u001b[0;32mNone\u001b[0m\u001b[0;34m\u001b[0m\u001b[0;34m\u001b[0m\u001b[0m\n\u001b[0m\u001b[1;32m    896\u001b[0m             \u001b[0;32mexcept\u001b[0m \u001b[0mException\u001b[0m \u001b[0;32mas\u001b[0m \u001b[0me\u001b[0m\u001b[0;34m:\u001b[0m\u001b[0;34m\u001b[0m\u001b[0;34m\u001b[0m\u001b[0m\n\u001b[1;32m    897\u001b[0m                 \u001b[0mself\u001b[0m\u001b[0;34m.\u001b[0m\u001b[0mlog\u001b[0m\u001b[0;34m.\u001b[0m\u001b[0mwarning\u001b[0m\u001b[0;34m(\u001b[0m\u001b[0;34m\"Invalid Message:\"\u001b[0m\u001b[0;34m,\u001b[0m \u001b[0mexc_info\u001b[0m\u001b[0;34m=\u001b[0m\u001b[0;32mTrue\u001b[0m\u001b[0;34m)\u001b[0m\u001b[0;34m\u001b[0m\u001b[0;34m\u001b[0m\u001b[0m\n",
            "\u001b[0;31mKeyboardInterrupt\u001b[0m: Interrupted by user"
          ]
        }
      ],
      "source": [
        "#calculator\n",
        "\n",
        "while True:\n",
        "    usr_input = input(\"Calcualte: \")\n",
        "    if usr_input == 'q': break\n",
        "    try:\n",
        "        result = None\n",
        "        exec(\"result = \" + usr_input)\n",
        "        print(\"Result:\", result)\n",
        "    except Exception as e:\n",
        "        print(\"Error:\", e)\n"
      ]
    },
    {
      "cell_type": "code",
      "source": [],
      "metadata": {
        "id": "g3OuUk1RF1c9"
      },
      "execution_count": null,
      "outputs": []
    }
  ]
}