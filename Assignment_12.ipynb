{
  "nbformat": 4,
  "nbformat_minor": 0,
  "metadata": {
    "colab": {
      "provenance": [],
      "authorship_tag": "ABX9TyMdGommQ5+yLHjjs8uSS3QH",
      "include_colab_link": true
    },
    "kernelspec": {
      "name": "python3",
      "display_name": "Python 3"
    },
    "language_info": {
      "name": "python"
    }
  },
  "cells": [
    {
      "cell_type": "markdown",
      "metadata": {
        "id": "view-in-github",
        "colab_type": "text"
      },
      "source": [
        "<a href=\"https://colab.research.google.com/github/adamBabieradzki/CSC221_ababi004/blob/main/Assignment_12.ipynb\" target=\"_parent\"><img src=\"https://colab.research.google.com/assets/colab-badge.svg\" alt=\"Open In Colab\"/></a>"
      ]
    },
    {
      "cell_type": "code",
      "execution_count": 38,
      "metadata": {
        "colab": {
          "base_uri": "https://localhost:8080/"
        },
        "id": "rVHcWGGax_et",
        "outputId": "8eb0514c-bf06-4654-8114-aefd35331535"
      },
      "outputs": [
        {
          "output_type": "stream",
          "name": "stdout",
          "text": [
            "{1: 'One', 2: 'Two', 5: 'Five', 10: 'Ten', 20: 'Twenty', 50: 'Fifty', 100: 'Hundred'}\n",
            "30\n",
            "This is a Twenty Dollar Bill\n",
            "This is a 5 Cent Coin\n",
            "In this wallet there are 40.05 dollars\n",
            "\tThere is a Twenty in this walllet\n",
            "\tThere is a Nickel in this walllet\n",
            "\tThere is a Twenty in this walllet\n",
            "In this wallet there are 45.05 dollars\n",
            "\tThere is a Five in this walllet\n",
            "\tThere is a Twenty in this walllet\n",
            "\tThere is a Nickel in this walllet\n",
            "\tThere is a Twenty in this walllet\n"
          ]
        }
      ],
      "source": [
        "#Adam Babieradzki\n",
        "\n",
        "class Money:\n",
        "  def __init__(self, value):\n",
        "    self.value = value\n",
        "  def __add__(self,val2):\n",
        "    return self.value + val2.value\n",
        "  def __subtract__(self,val2):\n",
        "    return self.value - val2.value\n",
        "  def present(self):\n",
        "    if self.defin == \"Bill\":\n",
        "      print(f'This is a {self.name} {self.denom} {self.defin}')\n",
        "    elif self.defin == \"Coin\":\n",
        "      print(f'This is a {int(self.value * 100)} {self.denom} {self.defin}')\n",
        "    elif self.defin == \"Wallet\":\n",
        "      print(f'In this wallet there are {self.value} dollars')\n",
        "      for i in self.content:\n",
        "        print(f'\\tThere is a {i.name} in this walllet')\n",
        "\n",
        "class Wallet(Money):\n",
        "  def __init__(self,content):\n",
        "    self.defin = \"Wallet\"\n",
        "    self.denom = \"Dollars\"\n",
        "    self.content = content\n",
        "    self.value = 0\n",
        "    for i in self.content:\n",
        "      self.value = self.value + i.value\n",
        "  def det_value(self):\n",
        "    self.value = 0\n",
        "    for i in self.content:\n",
        "      self.value = self.value + i.value\n",
        "  def add_item(self,money):\n",
        "    self.content.append(money)\n",
        "    self.det_value()\n",
        "  def remove_item(self,i):\n",
        "    del self.content[i]\n",
        "    self.det_value()\n",
        "  def __add__(self,val2):\n",
        "    new_wallet = self.content\n",
        "    for i in val2.content:\n",
        "      new_wallet.append(i)\n",
        "    return Wallet(new_wallet)\n",
        "\n",
        "\n",
        "class Bill(Money):\n",
        "  bill_dict = {\"One\" : 1,\"Two\" : 2,\"Five\" : 5,\"Ten\" : 10,\n",
        "               \"Twenty\" : 20,\"Fifty\" : 50, \"Hundred\" : 100}\n",
        "  reverse_dict = {}\n",
        "  for key, value in bill_dict.items():\n",
        "    reverse_dict[value] = key\n",
        "  def __init__(self,value):\n",
        "    super().__init__(value)\n",
        "    self.defin = \"Bill\"\n",
        "    self.denom = \"Dollar\"\n",
        "    assert self.value in self.reverse_dict.keys()\n",
        "    self.name = self.reverse_dict[self.value]\n",
        "\n",
        "class Coin(Money):\n",
        "  coin_dict = {\n",
        "      \"Penny\" : .01, \"Nickel\": .05,\n",
        "      \"Dime\" : .10, \"Quarter\": .25\n",
        "  }\n",
        "  reverse_dict = {}\n",
        "  for key,value in coin_dict.items():\n",
        "    reverse_dict[value] = key\n",
        "  def __init__(self,value):\n",
        "    super().__init__(value)\n",
        "    self.defin = \"Coin\"\n",
        "    self.denom = \"Cent\"\n",
        "    assert self.value in self.reverse_dict.keys()\n",
        "    self.name = self.reverse_dict[self.value]\n",
        "\n",
        "print(Bill.reverse_dict)\n",
        "bill1 = Bill(20)\n",
        "bill2 = Bill(10)\n",
        "coin1 = Coin(.05)\n",
        "print(bill1 + bill2)\n",
        "bill1.present()\n",
        "coin1.present()\n",
        "wallet1 = Wallet([bill1,bill2,coin1])\n",
        "wallet1.add_item(Bill(20))\n",
        "wallet1.remove_item(1)\n",
        "wallet1.present()\n",
        "wallet2 = Wallet([Bill(5)])\n",
        "wallet3 = wallet2 + wallet1\n",
        "wallet3.present()"
      ]
    },
    {
      "cell_type": "code",
      "source": [],
      "metadata": {
        "id": "rO-JmvKl0kWg"
      },
      "execution_count": null,
      "outputs": []
    }
  ]
}