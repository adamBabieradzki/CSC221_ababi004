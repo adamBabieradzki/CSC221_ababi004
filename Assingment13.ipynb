{
  "nbformat": 4,
  "nbformat_minor": 0,
  "metadata": {
    "colab": {
      "provenance": [],
      "include_colab_link": true
    },
    "kernelspec": {
      "name": "python3",
      "display_name": "Python 3"
    },
    "language_info": {
      "name": "python"
    }
  },
  "cells": [
    {
      "cell_type": "markdown",
      "metadata": {
        "id": "view-in-github",
        "colab_type": "text"
      },
      "source": [
        "<a href=\"https://colab.research.google.com/github/adamBabieradzki/CSC221_ababi004/blob/main/Assingment13.ipynb\" target=\"_parent\"><img src=\"https://colab.research.google.com/assets/colab-badge.svg\" alt=\"Open In Colab\"/></a>"
      ]
    },
    {
      "cell_type": "code",
      "execution_count": 2,
      "metadata": {
        "id": "7aynL_Db1kIy"
      },
      "outputs": [],
      "source": [
        "# Assignment 13 Source File Generator\n",
        "# DO NOT MODIFY\n",
        "\n",
        "import random\n",
        "def do_x_percent(n):\n",
        "    chance = random.randint(0,99)\n",
        "    return chance < n\n",
        "\n",
        "_last_choice = \"?\"\n",
        "def choose_character(include_str, exclude_str=''):\n",
        "    global _last_choice\n",
        "    chosen_character = random.choice(include_str)\n",
        "    while chosen_character == _last_choice or chosen_character in exclude_str:\n",
        "        chosen_character = random.choice(include_str)\n",
        "\n",
        "    _last_choice = chosen_character\n",
        "    return chosen_character\n",
        "\n",
        "def rand_digit(exclude_str=''):\n",
        "    return choose_character('0123456789', exclude_str)\n",
        "\n",
        "def rand_vowel(exclude_str=''):\n",
        "    return choose_character('aeiou', exclude_str)\n",
        "\n",
        "def rand_consonant(exclude_str='qz'):\n",
        "    return choose_character('bcdfghjklmnpqrstvwyz', exclude_str)\n",
        "\n",
        "def gen_first_name():\n",
        "    name = rand_consonant().upper() + rand_vowel()\n",
        "\n",
        "    for i in range(random.randint(1, 2)):\n",
        "        name += rand_consonant()\n",
        "        name += rand_vowel()\n",
        "\n",
        "    return name\n",
        "\n",
        "def gen_last_name():\n",
        "    name = random.choice(['', '', '', '', '', 'de ', 'el '])\n",
        "    name += rand_consonant().upper() + rand_vowel()\n",
        "\n",
        "    for i in range(random.randint(2, 3)):\n",
        "        name += rand_consonant()\n",
        "        name += rand_vowel()\n",
        "        if do_x_percent(20):\n",
        "            name += rand_vowel()\n",
        "\n",
        "    return name\n",
        "\n",
        "def gen_default_email(first_name, last_name):\n",
        "    compacted_last = last_name.replace(' ', '')\n",
        "    if do_x_percent(60):\n",
        "        email = first_name[0].lower() + compacted_last[:4].lower()\n",
        "        num = random.randint(1,7)\n",
        "        email += f'{num:03d}@plattsburgh.edu'\n",
        "    else:\n",
        "        email = first_name.lower() + compacted_last[0].lower()\n",
        "        domain = random.randint(1,3)\n",
        "        if domain == 1:\n",
        "            email += '@gmail.com'\n",
        "        if domain == 2:\n",
        "            email += '@yahoo.com'\n",
        "        if domain == 3:\n",
        "            email += '@msn.com'\n",
        "\n",
        "    return email\n",
        "\n",
        "def gen_phone_number():\n",
        "    phone_number = '+' + str(random.randint(1,42))\n",
        "\n",
        "    phone_number += ' '\n",
        "    phone_number += rand_digit('0')\n",
        "    for i in range(2):\n",
        "       phone_number += rand_digit()\n",
        "\n",
        "    phone_number += ' '\n",
        "    for i in range(random.randint(3,4)):\n",
        "       phone_number += rand_digit()\n",
        "\n",
        "    phone_number += ' '\n",
        "    for i in range(random.randint(3,4)):\n",
        "       phone_number += rand_digit()\n",
        "\n",
        "    return phone_number\n",
        "\n",
        "def gen_pastimes():\n",
        "    pastime_set = set()\n",
        "    num_pastimes = random.randint(0, 4)\n",
        "\n",
        "    for i in range(num_pastimes):\n",
        "        pastime = random.choice(\n",
        "            ['tennis', 'piano', 'farming', 'fishing',\n",
        "             'coding', 'swimming', 'singing', 'airplanes', 'dancing',\n",
        "             'reading', 'saxophone', 'cards', 'hiking', 'bicycling', 'running',\n",
        "             'javelin', 'sewing', 'painting', 'poetry'])\n",
        "        pastime_set.add(pastime)\n",
        "\n",
        "    pastime_string = \"\"\n",
        "    first_time = True\n",
        "    for pastime in pastime_set:\n",
        "        if first_time:\n",
        "            first_time = False\n",
        "        else:\n",
        "            pastime_string += ', '\n",
        "            first_time = False\n",
        "        pastime_string += pastime\n",
        "\n",
        "    return pastime_string\n"
      ]
    },
    {
      "cell_type": "code",
      "source": [
        "# Assignment 13 Source File Generator\n",
        "# DO NOT MODIFY\n",
        "\n",
        "class Person:\n",
        "    def __init__(self):\n",
        "        self.first_name = gen_first_name()\n",
        "        self.last_name = gen_last_name()\n",
        "        self.email = gen_default_email(self.first_name, self.last_name)\n",
        "        self.phone_number = gen_phone_number()\n",
        "        self.pastimes = gen_pastimes()\n",
        "    def __str__(self):\n",
        "        ret = f'{self.first_name} {self.last_name}, {self.email}, {self.phone_number}'\n",
        "        if len(self.pastimes) > 0:\n",
        "          ret += f', {self.pastimes}'\n",
        "        return ret\n",
        "    def __lt__(self, other):\n",
        "        return self.first_name < other.first_name\n",
        "    def as_transmitted(self):\n",
        "        return str(self)\n",
        "    def as_received(self):\n",
        "        receive_string = self.as_transmitted()\n",
        "\n",
        "        # These are our \"typical\" random transmission errors :)\n",
        "        if do_x_percent(80):\n",
        "            receive_string = receive_string.replace('nn', 'nnn')\n",
        "        if do_x_percent(40):\n",
        "            receive_string = receive_string.replace('+', '++')\n",
        "        if do_x_percent(60):\n",
        "            receive_string = receive_string.replace('00', '0O')\n",
        "        if do_x_percent(40):\n",
        "            receive_string = receive_string.replace('.com', '_dot_com')\n",
        "        if do_x_percent(20):\n",
        "            receive_string = receive_string.replace('swimming', 'swiming')\n",
        "        if do_x_percent(20):\n",
        "            receive_string = receive_string.replace('plattsburgh', 'platsburgh')\n",
        "        if do_x_percent(20):\n",
        "            receive_string = receive_string.replace('plattsburgh', 'plattsburg')\n",
        "        if do_x_percent(20):\n",
        "            receive_string = receive_string.replace('plattsburgh', 'platsburg')\n",
        "        if do_x_percent(20):\n",
        "            receive_string = receive_string.replace('plattsburgh', 'plattsberg')\n",
        "        if do_x_percent(20):\n",
        "            receive_string = receive_string.replace(' ', '_', 7)\n",
        "\n",
        "        return receive_string\n",
        "\n",
        "# Example People and how they are garbled\n",
        "random.seed(1)\n",
        "people = [Person() for x in range(20)]\n",
        "for person in sorted(people):\n",
        "    print(person)\n",
        "    print(person.as_received())\n",
        "\n"
      ],
      "metadata": {
        "colab": {
          "base_uri": "https://localhost:8080/"
        },
        "id": "HSeKP4kK27n2",
        "outputId": "39eb0e82-278e-446c-9809-c45d8e1f1fd9"
      },
      "execution_count": 3,
      "outputs": [
        {
          "output_type": "stream",
          "name": "stdout",
          "text": [
            "Banono Difiwopi, banonod@gmail.com, +20 351 7195 640, saxophone, swimming\n",
            "Banono Difiwopi, banonod@gmail.com, ++20 351 7195 640, saxophone, swimming\n",
            "Dese el Ronouteo, desee@msn.com, +27 143 8038 9093, singing, swimming\n",
            "Dese el Ronouteo, desee@msn.com, +27 143 8038 9093, singing, swiming\n",
            "Gula Sojabobo, gulas@gmail.com, +38 150 806 083, painting, airplanes, javelin\n",
            "Gula Sojabobo, gulas@gmail_dot_com, +38 150 806 083, painting, airplanes, javelin\n",
            "Hidehi Hisitaino, hhisi001@plattsburgh.edu, +17 839 0306 027, sewing, airplanes, painting, bicycling\n",
            "Hidehi Hisitaino, hhisi001@plattsburgh.edu, ++17 839 0306 027, sewing, airplanes, painting, bicycling\n",
            "Huli Vinietewa, hvini004@plattsburgh.edu, +5 625 961 914, reading, poetry\n",
            "Huli Vinietewa, hvini004@plattsburgh.edu, +5 625 961 914, reading, poetry\n",
            "Jimupe de Sufuyo, jdesu003@plattsburgh.edu, +28 390 6568 081, dancing, fishing\n",
            "Jimupe de Sufuyo, jdesu0O3@platsburgh.edu, ++28 390 6568 081, dancing, fishing\n",
            "Juyeta de Mubimaji, jdemu003@plattsburgh.edu, +28 341 8587 101, swimming\n",
            "Juyeta_de_Mubimaji,_jdemu0O3@platsburg.edu,_++28_341_8587_101, swimming\n",
            "Lukika el Noleusu, lelno005@plattsburgh.edu, +17 782 754 3134\n",
            "Lukika_el_Noleusu,_lelno005@plattsberg.edu,_++17_782_754_3134\n",
            "Megu de Cihiwei, megud@gmail.com, +29 684 8706 2470, piano, tennis, poetry\n",
            "Megu_de_Cihiwei,_megud@gmail_dot_com,_+29_684_8706_2470, piano, tennnis, poetry\n",
            "Meli Lowira, mlowi005@plattsburgh.edu, +25 341 908 2185, cards, sewing, reading, bicycling\n",
            "Meli_Lowira,_mlowi0O5@plattsburg.edu,_+25_341_908_2185,_cards, sewing, reading, bicycling\n",
            "Nute de Magohabi, nuted@yahoo.com, +35 427 2780 8196\n",
            "Nute de Magohabi, nuted@yahoo_dot_com, ++35 427 2780 8196\n",
            "Pabeve de Domejelau, pabeved@yahoo.com, +30 802 8459 686, javelin\n",
            "Pabeve de Domejelau, pabeved@yahoo_dot_com, +30 802 8459 686, javelin\n",
            "Pesi Ruhiuru, pruhi003@plattsburgh.edu, +19 978 9073 6258, running, farming\n",
            "Pesi Ruhiuru, pruhi003@plattsburg.edu, +19 978 9073 6258, runnning, farming\n",
            "Puye Liyodebe, pliyo005@plattsburgh.edu, +42 735 7365 3018, sewing, swimming\n",
            "Puye Liyodebe, pliyo005@plattsburg.edu, ++42 735 7365 3018, sewing, swimming\n",
            "Seyi de Rageidame, seyid@yahoo.com, +9 809 729 635\n",
            "Seyi de Rageidame, seyid@yahoo_dot_com, +9 809 729 635\n",
            "Tivo Pobunobe, tpobu005@plattsburgh.edu, +38 218 0107 434\n",
            "Tivo_Pobunobe,_tpobu0O5@plattsburgh.edu,_++38_218_0107_434\n",
            "Vavo Taciyuhe, vtaci001@plattsburgh.edu, +13 836 9574 682, piano, singing, painting, bicycling\n",
            "Vavo Taciyuhe, vtaci0O1@platsburg.edu, ++13 836 9574 682, piano, singing, painting, bicycling\n",
            "Vifo de Siwoyoewa, vifod@msn.com, +33 379 4279 580, bicycling, hiking, poetry\n",
            "Vifo_de_Siwoyoewa,_vifod@msn.com,_+33_379_4279_580, bicycling, hiking, poetry\n",
            "Walaci Bafakuha, wbafa006@plattsburgh.edu, +16 216 8484 5135\n",
            "Walaci Bafakuha, wbafa0O6@plattsberg.edu, ++16 216 8484 5135\n",
            "Yina Yukeodi, yyuke006@plattsburgh.edu, +5 457 2185 825, sewing, fishing\n",
            "Yina Yukeodi, yyuke006@plattsburgh.edu, ++5 457 2185 825, sewing, fishing\n"
          ]
        }
      ]
    },
    {
      "cell_type": "code",
      "source": [
        "# Assignment 13 Source File Generator\n",
        "# DO NOT MODIFY\n",
        "\n",
        "# Creates a population of Person objects\n",
        "# Writes them uncorrupted to source_file.txt\n",
        "# Writes them as received to as_received[123].txt\n",
        "# Most records go into only one file but some are duplicated in two files\n",
        "def make_files(my_name, record_count=100):\n",
        "    random.seed(hash(my_name))\n",
        "\n",
        "    people = [Person() for x in range(record_count)]\n",
        "\n",
        "    source_file = open('source.txt', 'w')\n",
        "    received_file1 = open('as_received1.txt', 'w')\n",
        "    received_file2 = open('as_received2.txt', 'w')\n",
        "    received_file3 = open('as_received3.txt', 'w')\n",
        "\n",
        "    all_files = [source_file, received_file1, received_file2, received_file3]\n",
        "\n",
        "    for file in all_files:\n",
        "        file.write('Name, Email, Phone, Pastimes\\n')\n",
        "\n",
        "    source_file_line_count = 0\n",
        "    received_file1_line_count = 0\n",
        "    received_file2_line_count = 0\n",
        "    received_file3_line_count = 0\n",
        "    for person in sorted(people):\n",
        "        source_file.write(person.as_transmitted() + '\\n')\n",
        "        source_file_line_count += 1\n",
        "\n",
        "        # These are all 3-bit numbers that have either 1 or 2 bits turned on\n",
        "        #   with a bias to a single bit\n",
        "        choice = random.choice([1, 2, 4, 1, 2, 4, 1, 2, 4, 1, 2, 4, 3, 5, 6])\n",
        "        if choice & 1:\n",
        "            received_file1.write(person.as_received() + '\\n')\n",
        "            received_file1_line_count += 1\n",
        "        if choice & 2:\n",
        "            received_file2.write(person.as_received() + '\\n')\n",
        "            received_file2_line_count += 1\n",
        "        if choice & 4:\n",
        "            received_file3.write(person.as_received() + '\\n')\n",
        "            received_file3_line_count += 1\n",
        "\n",
        "    print(f'source_file written with {source_file_line_count} lines')\n",
        "    print(f'received_file1 written with {received_file1_line_count} lines')\n",
        "    print(f'received_file2 written with {received_file2_line_count} lines')\n",
        "    print(f'received_file3 written with {received_file3_line_count} lines')\n",
        "\n",
        "    for file in all_files:\n",
        "        file.close()\n"
      ],
      "metadata": {
        "id": "ZHVptnh69iMI"
      },
      "execution_count": 4,
      "outputs": []
    },
    {
      "cell_type": "markdown",
      "source": [
        "# You Edit Below Here!\n",
        "- Put in your name to change the random number seed and get your own custom files!\n",
        "- Use a small number like 20 for the record count so your files are manageable during debug\n",
        "- Final test is done with 100000 records\n",
        "- This creates the uncorrupted file\n",
        "  - source.txt file\n",
        "- It also creates the garbles files\n",
        "  - as_received1.txt\n",
        "  - as_received2.txt\n",
        "  - as_received3.txt\n"
      ],
      "metadata": {
        "id": "kkbTFGqleDE1"
      }
    },
    {
      "cell_type": "code",
      "source": [
        "# Run this to make your data files\n",
        "\n",
        "# Put in YOUR name\n",
        "# Generate 20-50 records to debug and 100000 for your final code check\n",
        "make_files(my_name='Adam Babieradzki', record_count=100000)\n"
      ],
      "metadata": {
        "colab": {
          "base_uri": "https://localhost:8080/"
        },
        "id": "lW5OIax_Aqx1",
        "outputId": "e2196124-917b-4528-eb3b-9e7380f88e73"
      },
      "execution_count": 45,
      "outputs": [
        {
          "output_type": "stream",
          "name": "stdout",
          "text": [
            "source_file written with 100000 lines\n",
            "received_file1 written with 40043 lines\n",
            "received_file2 written with 40105 lines\n",
            "received_file3 written with 40104 lines\n"
          ]
        }
      ]
    },
    {
      "cell_type": "code",
      "source": [
        "file_list = [f\"as_received{x+1}.txt\" for x in range(3)]\n",
        "files = []\n",
        "for file1 in file_list:\n",
        "  files.append(open(file1))\n",
        "list_1 = []\n",
        "for file1 in files:\n",
        "  while line := file1.readline():\n",
        "      list_1.append(line)\n",
        "\n",
        "while \"Name, Email, Phone, Pastimes\\n\" in list_1:\n",
        "  list_1.remove(\"Name, Email, Phone, Pastimes\\n\")\n",
        "\n",
        "def process_string(inp):\n",
        "  inp = inp.replace(\"nnn\",\"nn\")\n",
        "  inp = inp.replace(\"++\",\"+\")\n",
        "  inp = inp.replace(\"_dot_com\",\".com\")\n",
        "  inp = inp.replace(\"swiming\",\"swimming\")\n",
        "  inp = inp.replace(\"platsburgh\",\"plattsburgh\")\n",
        "  inp = inp.replace(\"plattsburg\",\"plattsburgh\")\n",
        "  inp = inp.replace(\"platsburg\",\"plattsburgh\")\n",
        "  inp = inp.replace(\"plattsberg\",\"plattsburgh\")\n",
        "  inp = inp.replace(\"plattsburghh\",\"plattsburgh\")\n",
        "  inp = inp.replace(\"0O\",\"00\")\n",
        "  inp = inp.replace(\"_\",\" \")\n",
        "  return inp\n",
        "new_list = [process_string(x) for x in list_1]\n",
        "new_list = set(new_list)\n",
        "new_list = sorted(new_list)\n",
        "new_list.insert(0,\"Name, Email, Phone, Pastimes\\n\")\n",
        "new_file = open(\"output.txt\",\"w\")\n",
        "new_file.writelines(new_list)\n",
        "new_file.close()\n",
        "#not sure why but this cell needs to be ran twice to produce a output.txt file"
      ],
      "metadata": {
        "id": "o3_oaaFVD1SB"
      },
      "execution_count": 47,
      "outputs": []
    },
    {
      "cell_type": "code",
      "source": [
        "#TIY 10-1\n",
        "file2 = open(\"learning_python.txt\",\"r\")\n",
        "list1 = []\n",
        "while line := file2.readline():\n",
        "  print(line)\n",
        "  list1.append(line)\n",
        "print(list1)\n",
        "print(open(\"learning_python.txt\").readlines())\n",
        "file2.close()"
      ],
      "metadata": {
        "colab": {
          "base_uri": "https://localhost:8080/"
        },
        "id": "NM3TuTdwfZe4",
        "outputId": "0ee3e3c8-00a4-44d0-e9d3-20488b9d768b"
      },
      "execution_count": 62,
      "outputs": [
        {
          "output_type": "stream",
          "name": "stdout",
          "text": [
            "In Python you can create variables\n",
            "\n",
            "In Python you can do math\n",
            "\n",
            "In Python you can manipulate strings\n",
            "\n",
            "In Python you can check conditions\n",
            "['In Python you can create variables\\n', 'In Python you can do math\\n', 'In Python you can manipulate strings\\n', 'In Python you can check conditions']\n",
            "['In Python you can create variables\\n', 'In Python you can do math\\n', 'In Python you can manipulate strings\\n', 'In Python you can check conditions']\n"
          ]
        }
      ]
    },
    {
      "cell_type": "code",
      "source": [
        "#TIY 10-4\n",
        "guest_book = open(\"guest_book.txt\",\"w\")\n",
        "while True:\n",
        "  user_input = input(\"What is your name? : \")\n",
        "  if user_input != \"quit\":\n",
        "    print(f'Welcome {user_input}')\n",
        "    guest_book.write(f'{user_input}\\n')\n",
        "  else:\n",
        "    guest_book.close()\n",
        "    break\n"
      ],
      "metadata": {
        "colab": {
          "base_uri": "https://localhost:8080/"
        },
        "id": "djMP60GUfgMD",
        "outputId": "b4e160d2-8270-4132-81ba-ca193fd84265"
      },
      "execution_count": 67,
      "outputs": [
        {
          "name": "stdout",
          "output_type": "stream",
          "text": [
            "What is your name? : Adam\n",
            "Welcome Adam\n",
            "What is your name? : John\n",
            "Welcome John\n",
            "What is your name? : Bill\n",
            "Welcome Bill\n",
            "What is your name? : Mark\n",
            "Welcome Mark\n",
            "What is your name? : Mary\n",
            "Welcome Mary\n",
            "What is your name? : Anne\n",
            "Welcome Anne\n",
            "What is your name? : quit\n"
          ]
        }
      ]
    },
    {
      "cell_type": "markdown",
      "source": [],
      "metadata": {
        "id": "PvV1E5YZ7b6_"
      }
    }
  ]
}