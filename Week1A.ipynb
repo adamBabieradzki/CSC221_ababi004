{
  "nbformat": 4,
  "nbformat_minor": 0,
  "metadata": {
    "colab": {
      "provenance": [],
      "authorship_tag": "ABX9TyM9PD0ukbnyYgTu+10+zX0L",
      "include_colab_link": true
    },
    "kernelspec": {
      "name": "python3",
      "display_name": "Python 3"
    },
    "language_info": {
      "name": "python"
    }
  },
  "cells": [
    {
      "cell_type": "markdown",
      "metadata": {
        "id": "view-in-github",
        "colab_type": "text"
      },
      "source": [
        "<a href=\"https://colab.research.google.com/github/adamBabieradzki/CSC221_ababi004/blob/main/Week1A.ipynb\" target=\"_parent\"><img src=\"https://colab.research.google.com/assets/colab-badge.svg\" alt=\"Open In Colab\"/></a>"
      ]
    },
    {
      "cell_type": "code",
      "execution_count": 20,
      "metadata": {
        "colab": {
          "base_uri": "https://localhost:8080/"
        },
        "id": "F_ZU_eawCP0P",
        "outputId": "7fe5bf6a-7266-40a6-cbe5-e4171948340e"
      },
      "outputs": [
        {
          "output_type": "stream",
          "name": "stdout",
          "text": [
            "['']\n",
            "['']\n"
          ]
        }
      ],
      "source": [
        "string1 = \"Hello World\"\n",
        "for i in string1.split():\n",
        "  print(i.split(\"l\")[0].split(\"H\")[0].split(\"e\")[0].split(\"W\")[0].split(\"o\"))"
      ]
    },
    {
      "cell_type": "code",
      "source": [
        "\"\""
      ],
      "metadata": {
        "id": "AfwPMFsACcYT"
      },
      "execution_count": null,
      "outputs": []
    }
  ]
}