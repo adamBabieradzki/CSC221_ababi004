{
  "nbformat": 4,
  "nbformat_minor": 0,
  "metadata": {
    "colab": {
      "provenance": [],
      "authorship_tag": "ABX9TyNnwiwGivn6evh1T6v5yBcR",
      "include_colab_link": true
    },
    "kernelspec": {
      "name": "python3",
      "display_name": "Python 3"
    },
    "language_info": {
      "name": "python"
    }
  },
  "cells": [
    {
      "cell_type": "markdown",
      "metadata": {
        "id": "view-in-github",
        "colab_type": "text"
      },
      "source": [
        "<a href=\"https://colab.research.google.com/github/adamBabieradzki/CSC221_ababi004/blob/main/assignment22_inpyb.ipynb\" target=\"_parent\"><img src=\"https://colab.research.google.com/assets/colab-badge.svg\" alt=\"Open In Colab\"/></a>"
      ]
    },
    {
      "cell_type": "code",
      "execution_count": 26,
      "metadata": {
        "colab": {
          "base_uri": "https://localhost:8080/"
        },
        "id": "-lQ6Wa8FAVCz",
        "outputId": "566a19d0-7b3b-45f9-c066-e5af6d553e9a"
      },
      "outputs": [
        {
          "output_type": "stream",
          "name": "stdout",
          "text": [
            "[Vector of Length: 2.8284271247461903, Vector of Length: 3.605551275463989, Vector of Length: 5.656854249492381]\n"
          ]
        }
      ],
      "source": [
        "class Vector:\n",
        "  def __init__(self,x,y):\n",
        "    self.x = x\n",
        "    self.y = y\n",
        "    #thought the length of a vector was a^2 + b^2 = c^2\n",
        "    self.length = (x**2 + y**2)**(1/2)\n",
        "  def __eq__(self, other) -> bool:\n",
        "    if type(self) == type(other):\n",
        "      return True if self.length == other.length else False\n",
        "    else: return False\n",
        "  def __lt__(self,other) -> bool:\n",
        "    if type(self) == type(other):\n",
        "      return True if self.length < other.length else False\n",
        "    else: return False\n",
        "  def __gt__(self,other) -> bool:\n",
        "    if type(self) == type(other):\n",
        "      return True if self.length > other.length else False\n",
        "    else: return False\n",
        "  def __ge__(self,other):\n",
        "    if type(self) == type(other):\n",
        "      return self.__eq__(other) or self.__gt__(other)\n",
        "    else: return False\n",
        "  def __le__(self,other):\n",
        "    if type(self) == type(other):\n",
        "      return self.__eq__(other) or self.__lt__(other)\n",
        "  def __ne__(self,other):\n",
        "    if type(self) == type(other): return not self.__eq__(other)\n",
        "    else: return False\n",
        "  def __repr__(self):\n",
        "    return f\"Vector of Length: {self.length}\"\n",
        "\n",
        "\n",
        "v1 = Vector(2,2)\n",
        "v2 = Vector(2,3)\n",
        "v3 = Vector(4,4)\n",
        "list1 = [v3,v2,v1]\n",
        "list1.sort()\n",
        "print(list1)"
      ]
    },
    {
      "cell_type": "code",
      "source": [
        "class Special:\n",
        "  def __getitem__(self,key): return len(key)\n",
        "\n",
        "s1 = Special()\n",
        "print(s1[\"adam\"*5])\n",
        "print(s1[\"babieradzki\"])"
      ],
      "metadata": {
        "colab": {
          "base_uri": "https://localhost:8080/"
        },
        "id": "msys_YltA2fQ",
        "outputId": "3708393d-981c-4c30-9bf6-bc67abfae298"
      },
      "execution_count": 34,
      "outputs": [
        {
          "output_type": "stream",
          "name": "stdout",
          "text": [
            "20\n",
            "11\n"
          ]
        }
      ]
    },
    {
      "cell_type": "code",
      "source": [],
      "metadata": {
        "id": "x_QJroFIBTe-"
      },
      "execution_count": null,
      "outputs": []
    }
  ]
}