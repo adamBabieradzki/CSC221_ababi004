{
  "nbformat": 4,
  "nbformat_minor": 0,
  "metadata": {
    "colab": {
      "provenance": [],
      "authorship_tag": "ABX9TyPtiRYwLEKQ1NawsMrCwsFJ",
      "include_colab_link": true
    },
    "kernelspec": {
      "name": "python3",
      "display_name": "Python 3"
    },
    "language_info": {
      "name": "python"
    }
  },
  "cells": [
    {
      "cell_type": "markdown",
      "metadata": {
        "id": "view-in-github",
        "colab_type": "text"
      },
      "source": [
        "<a href=\"https://colab.research.google.com/github/adamBabieradzki/CSC221_ababi004/blob/main/Assignment_14.ipynb\" target=\"_parent\"><img src=\"https://colab.research.google.com/assets/colab-badge.svg\" alt=\"Open In Colab\"/></a>"
      ]
    },
    {
      "cell_type": "code",
      "execution_count": 80,
      "metadata": {
        "colab": {
          "base_uri": "https://localhost:8080/"
        },
        "id": "xS1cN_D_svEl",
        "outputId": "f8694ecb-2d08-4938-ccb5-3d8917302593"
      },
      "outputs": [
        {
          "name": "stdout",
          "output_type": "stream",
          "text": [
            "Solve: 1 / 0\n",
            "divide by 0 error\n",
            "Solve: -1 ^ .5\n",
            "this code ran\n",
            "Imaginary number error\n",
            "Solve: 123\n",
            "please use number operator number(1 + 1) format\n",
            "Solve: . + 1\n",
            "Invalid number(s)\n",
            "Solve: 1 + .\n",
            "Invalid number(s)\n",
            "Solve: 555 + 555\n",
            "1110.0\n",
            "Solve: 123 +- 456\n",
            "Invalid Operator\n",
            "Solve: adam babieradzki\n",
            "please use number operator number(1 + 1) format\n",
            "Solve:  j j j \n",
            "Invalid Operator\n",
            "Solve: quit\n"
          ]
        }
      ],
      "source": [
        "from IPython.core.compilerop import operator\n",
        "class Calculator():\n",
        "  def __init__(self):\n",
        "    self.inp = \"\"\n",
        "    self.out = 0.0\n",
        "    self.storage = {}\n",
        "    self.operators = [\"+\",\"-\",\"/\",\"*\",\"^\"]\n",
        "    self.keywords = [\"quit\"]\n",
        "    self.error_flag = False\n",
        "\n",
        "  def compute(self):\n",
        "    if self.inp.split()[1] == \"+\":\n",
        "      return float(self.inp.split()[0]) + float(self.inp.split()[2])\n",
        "    elif self.inp.split()[1] == \"-\":\n",
        "      return float(self.inp[0])-float(self.inp[2])\n",
        "    elif self.inp.split()[1] == \"/\":\n",
        "      if float(self.inp.split()[2]) == 0:\n",
        "        return \"divide by 0 error\"\n",
        "      else:\n",
        "        return float(self.inp.split()[0])/float(self.inp.split()[2])\n",
        "    elif self.inp.split()[1] == \"*\":\n",
        "      return float(self.inp[0])*float(self.inp[2])\n",
        "    elif self.inp.split()[1] == \"^\":\n",
        "      if float(self.inp.split()[2]) < 1 and float(self.inp.split()[2]) > -1:\n",
        "        try:\n",
        "          print('this code ran')\n",
        "          assert float(self.inp.split()[2]) > 1\n",
        "        except:\n",
        "          return \"Imaginary number error\"\n",
        "        else:\n",
        "          return float(self.inp.split()[0])**float(self.inp.split()[2])\n",
        "      return float(self.inp.split()[0])**float(self.inp.split()[2])\n",
        "\n",
        "  def take_input(self):\n",
        "    test_string = input(\"Solve: \")\n",
        "    self.error_flag = False\n",
        "    if test_string in self.keywords:\n",
        "      if test_string == \"quit\": self.inp = \"quit\"\n",
        "    else:\n",
        "      try:\n",
        "        assert len(test_string.split()) == 3\n",
        "      except:\n",
        "        self.error_flag = True\n",
        "        #informs user to add spaces\n",
        "        print(\"please use number operator number(1 + 1) format\")\n",
        "      else:\n",
        "        try:\n",
        "          assert test_string.split()[1] in self.operators\n",
        "          float(test_string.split()[0])\n",
        "          float(test_string.split()[2])\n",
        "        except AssertionError:\n",
        "          self.error_flag = True\n",
        "          #triggers when operator not in operators\n",
        "          print(\"Invalid Operator\")\n",
        "        except ValueError:\n",
        "          self.error_flag = True\n",
        "          #triggers when either of the numbers cannot be floated\n",
        "          print(\"Invalid number(s)\")\n",
        "        else:\n",
        "          self.inp = test_string\n",
        "  def mainloop(self):\n",
        "    while True:\n",
        "      self.take_input()\n",
        "      if self.inp == \"quit\":\n",
        "        break\n",
        "      if self.error_flag == False:\n",
        "        print(self.compute())\n",
        "\n",
        "\n",
        "calc1 = Calculator()\n",
        "calc1.mainloop()"
      ]
    },
    {
      "cell_type": "code",
      "source": [],
      "metadata": {
        "colab": {
          "base_uri": "https://localhost:8080/"
        },
        "id": "0cjCzCzktC7j",
        "outputId": "da1bec3b-9f53-41f7-dc05-ebb27d172a71"
      },
      "execution_count": 77,
      "outputs": [
        {
          "output_type": "stream",
          "name": "stdout",
          "text": [
            "Error\n"
          ]
        }
      ]
    },
    {
      "cell_type": "code",
      "source": [],
      "metadata": {
        "id": "SXDZR3oa2TMS"
      },
      "execution_count": null,
      "outputs": []
    }
  ]
}