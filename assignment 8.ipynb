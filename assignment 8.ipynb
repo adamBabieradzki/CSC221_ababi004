{
  "nbformat": 4,
  "nbformat_minor": 0,
  "metadata": {
    "colab": {
      "provenance": [],
      "toc_visible": true,
      "authorship_tag": "ABX9TyPuF/RXAaNZXekT2JVjBJzl",
      "include_colab_link": true
    },
    "kernelspec": {
      "name": "python3",
      "display_name": "Python 3"
    },
    "language_info": {
      "name": "python"
    }
  },
  "cells": [
    {
      "cell_type": "markdown",
      "metadata": {
        "id": "view-in-github",
        "colab_type": "text"
      },
      "source": [
        "<a href=\"https://colab.research.google.com/github/adamBabieradzki/CSC221_ababi004/blob/main/assignment%208.ipynb\" target=\"_parent\"><img src=\"https://colab.research.google.com/assets/colab-badge.svg\" alt=\"Open In Colab\"/></a>"
      ]
    },
    {
      "cell_type": "markdown",
      "source": [
        "#Text Book Examples"
      ],
      "metadata": {
        "id": "QM_AfiOjCpon"
      }
    },
    {
      "cell_type": "code",
      "execution_count": null,
      "metadata": {
        "colab": {
          "base_uri": "https://localhost:8080/"
        },
        "id": "NF-L-qUfADR5",
        "outputId": "5ad3c528-b9ec-460d-ede4-9f4e3c5ed695"
      },
      "outputs": [
        {
          "output_type": "stream",
          "name": "stdout",
          "text": [
            "Tell me somehting and I'll repeat it back to you : Hello\n",
            "Hello\n"
          ]
        }
      ],
      "source": [
        "message = input(\"Tell me somehting and I'll repeat it back to you : \")\n",
        "print(message)"
      ]
    },
    {
      "cell_type": "code",
      "source": [
        "name = input(\"Tell me your name: \")\n",
        "print(f'Hello {name}!')"
      ],
      "metadata": {
        "colab": {
          "base_uri": "https://localhost:8080/"
        },
        "id": "BReqWGkLAXyQ",
        "outputId": "002c1d1b-9452-4c89-b2b9-cb98ba910642"
      },
      "execution_count": null,
      "outputs": [
        {
          "output_type": "stream",
          "name": "stdout",
          "text": [
            "Tell me your name: adam\n",
            "Hello adam!\n"
          ]
        }
      ]
    },
    {
      "cell_type": "code",
      "source": [
        "prompt = \"If you tell us who you are, we can personalize the messages you see.\"\n",
        "prompt += \"\\nWhat is your first name? \"\n",
        "\n",
        "name = input(prompt)\n",
        "print(f\"\\nHello, {name}!\")"
      ],
      "metadata": {
        "colab": {
          "base_uri": "https://localhost:8080/"
        },
        "id": "VFaCiu-CAvX2",
        "outputId": "8773ea82-f0f3-40c3-c44a-3c88af54af99"
      },
      "execution_count": null,
      "outputs": [
        {
          "output_type": "stream",
          "name": "stdout",
          "text": [
            "If you tell us who you are, we can personalize the messages you see.\n",
            "What is your first name? Adam\n",
            "\n",
            "Hello, Adam!\n"
          ]
        }
      ]
    },
    {
      "cell_type": "code",
      "source": [
        "age = input(\"How old are you? \")\n",
        "int(age) >= 18"
      ],
      "metadata": {
        "colab": {
          "base_uri": "https://localhost:8080/"
        },
        "id": "rf5vHQ6pA53E",
        "outputId": "f273717e-e5bf-4a6c-93d0-a67b7e75c098"
      },
      "execution_count": null,
      "outputs": [
        {
          "name": "stdout",
          "output_type": "stream",
          "text": [
            "How old are you? 12\n"
          ]
        },
        {
          "output_type": "execute_result",
          "data": {
            "text/plain": [
              "False"
            ]
          },
          "metadata": {},
          "execution_count": 7
        }
      ]
    },
    {
      "cell_type": "code",
      "source": [
        "height = input(\"How tall are you in inches? \")\n",
        "height = int(height)\n",
        "\n",
        "if height > 36:\n",
        "  print(\"You are tall enough to ride\")\n",
        "else:\n",
        "  print(\"You'll be able to ride when you're a little older\")"
      ],
      "metadata": {
        "colab": {
          "base_uri": "https://localhost:8080/"
        },
        "id": "Oa8rNBUoBKZ0",
        "outputId": "a908f600-65fe-4de8-9674-3cfe8331c3f7"
      },
      "execution_count": null,
      "outputs": [
        {
          "output_type": "stream",
          "name": "stdout",
          "text": [
            "How tall are you in inches? 36\n",
            "You'll be able to ride when you're a little older\n"
          ]
        }
      ]
    },
    {
      "cell_type": "code",
      "source": [
        "number = input(\"Give me a number and I'll tell you if it's even or odd: \")\n",
        "number = int(number)\n",
        "\n",
        "if number % 2==0:\n",
        "  print(\"The number is even\")\n",
        "elif number % 2==1:\n",
        "  print(\"The number is odd\")"
      ],
      "metadata": {
        "colab": {
          "base_uri": "https://localhost:8080/"
        },
        "id": "4w_Dsu8XBqbN",
        "outputId": "06e2b638-ab8d-425d-f16a-aae16208237f"
      },
      "execution_count": null,
      "outputs": [
        {
          "output_type": "stream",
          "name": "stdout",
          "text": [
            "Give me a number and I'll tell you if it's even or odd: 19\n",
            "The number is odd\n"
          ]
        }
      ]
    },
    {
      "cell_type": "code",
      "source": [
        "current_number = 1\n",
        "while current_number <= 5:\n",
        "  print(current_number)\n",
        "  current_number +=1"
      ],
      "metadata": {
        "colab": {
          "base_uri": "https://localhost:8080/"
        },
        "id": "yrqPwqlPELPj",
        "outputId": "64ea26cb-a076-4bb9-8643-9e16c6833f7f"
      },
      "execution_count": null,
      "outputs": [
        {
          "output_type": "stream",
          "name": "stdout",
          "text": [
            "1\n",
            "2\n",
            "3\n",
            "4\n",
            "5\n"
          ]
        }
      ]
    },
    {
      "cell_type": "code",
      "source": [
        "print(\"Tell me something and I'll repeat it back to you\")\n",
        "print(\"Tell me 'quit' if you'd like me to stop\")\n",
        "\n",
        "\n",
        "str1 = \"\"\n",
        "while str1 != \"quit\":\n",
        "  str1 = input(\"\\n >>\")\n",
        "  if str1 != \"quit\":\n",
        "    print(str1)\n",
        "\n"
      ],
      "metadata": {
        "colab": {
          "base_uri": "https://localhost:8080/"
        },
        "id": "ZWYNCfAGEb1f",
        "outputId": "72f3f75f-ddf8-41e1-daa8-c0e8823cbc05"
      },
      "execution_count": null,
      "outputs": [
        {
          "name": "stdout",
          "output_type": "stream",
          "text": [
            "Tell me something and I'll repeat it back to you\n",
            "Tell me 'quit' if you'd like me to stop\n",
            "\n",
            " >>quit\n"
          ]
        }
      ]
    },
    {
      "cell_type": "code",
      "source": [
        "active = True\n",
        "while active:\n",
        "  str1 = input(\">> \")\n",
        "  if str1 == \"quit\":\n",
        "    active = False\n",
        "  else:\n",
        "    print(str1)"
      ],
      "metadata": {
        "colab": {
          "base_uri": "https://localhost:8080/"
        },
        "id": "ke2Oxr0sF3Am",
        "outputId": "cfaaa6da-a3b2-4015-da32-3655b1efafd9"
      },
      "execution_count": null,
      "outputs": [
        {
          "name": "stdout",
          "output_type": "stream",
          "text": [
            ">> hello\n",
            "hello\n",
            ">> hi\n",
            "hi\n",
            ">> qut\n",
            "qut\n",
            ">> quit\n"
          ]
        }
      ]
    },
    {
      "cell_type": "code",
      "source": [
        "prompt = \"\\nPlease enter the name of a city you have visited:\"\n",
        "prompt += \"\\n(Enter 'quit' when you are finished.) \"\n",
        "while True:\n",
        "  city = input(prompt)\n",
        "\n",
        "  if city == 'quit':\n",
        "    break\n",
        "  else:\n",
        "    print(\"I'd love to go to \" + city.title() + \"!\")"
      ],
      "metadata": {
        "colab": {
          "base_uri": "https://localhost:8080/"
        },
        "id": "tUrdjNyYHQYa",
        "outputId": "4e360489-f330-4b62-8117-2a7ad6fe39c3"
      },
      "execution_count": null,
      "outputs": [
        {
          "name": "stdout",
          "output_type": "stream",
          "text": [
            "\n",
            "Please enter the name of a city you have visited:\n",
            "(Enter 'quit' when you are finished.) Warsaw\n",
            "I'd love to go to Warsaw!\n",
            "\n",
            "Please enter the name of a city you have visited:\n",
            "(Enter 'quit' when you are finished.) quit\n"
          ]
        }
      ]
    },
    {
      "cell_type": "code",
      "source": [
        "current_number = 0\n",
        "while current_number < 10:\n",
        "  current_number += 1\n",
        "  if current_number % 2 == 0:\n",
        "      continue\n",
        "\n",
        "  print(current_number)"
      ],
      "metadata": {
        "colab": {
          "base_uri": "https://localhost:8080/"
        },
        "id": "vJTNJtDkHyEr",
        "outputId": "b41180e2-ee26-4f36-a8dc-a1703c65e5fa"
      },
      "execution_count": null,
      "outputs": [
        {
          "output_type": "stream",
          "name": "stdout",
          "text": [
            "1\n",
            "3\n",
            "5\n",
            "7\n",
            "9\n"
          ]
        }
      ]
    },
    {
      "cell_type": "code",
      "source": [
        "x = 1\n",
        "while x <= 5:\n",
        "  print(x)\n",
        "  x += 1\n"
      ],
      "metadata": {
        "colab": {
          "base_uri": "https://localhost:8080/"
        },
        "id": "5E9CfI8hIYeW",
        "outputId": "5e5b18f4-9c59-4c6d-8452-e0bead77b475"
      },
      "execution_count": null,
      "outputs": [
        {
          "output_type": "stream",
          "name": "stdout",
          "text": [
            "1\n",
            "2\n",
            "3\n",
            "4\n",
            "5\n"
          ]
        }
      ]
    },
    {
      "cell_type": "code",
      "source": [
        "users = ['alice', 'brian', 'candace']\n",
        "confirmed_users = []\n",
        "\n",
        "while users:\n",
        "  current_user = users.pop()\n",
        "  print(f'Verifying user {current_user.title()}')\n",
        "  confirmed_users.append(current_user)\n",
        "\n",
        "print(f'The following users have been confirmed: ')\n",
        "for user in confirmed_users:\n",
        "  print(user)"
      ],
      "metadata": {
        "colab": {
          "base_uri": "https://localhost:8080/"
        },
        "id": "qjp_RsAsNTKC",
        "outputId": "d5316309-cc18-4e39-884e-fe71769ed584"
      },
      "execution_count": null,
      "outputs": [
        {
          "output_type": "stream",
          "name": "stdout",
          "text": [
            "Verifying user Candace\n",
            "Verifying user Brian\n",
            "Verifying user Alice\n",
            "The following users have been confirmed: \n",
            "candace\n",
            "brian\n",
            "alice\n"
          ]
        }
      ]
    },
    {
      "cell_type": "code",
      "source": [
        "pets = ['dog', 'cat', 'dog', 'goldfish', 'cat', 'rabbit', 'cat']\n",
        "print(pets)\n",
        "while 'cat' in pets:\n",
        " pets.remove('cat')\n",
        "\n",
        "print(pets)"
      ],
      "metadata": {
        "colab": {
          "base_uri": "https://localhost:8080/"
        },
        "id": "hsbhlsmyn0iV",
        "outputId": "2f45ac0e-8ac1-4462-e1a3-ec0bd3b1091f"
      },
      "execution_count": null,
      "outputs": [
        {
          "output_type": "stream",
          "name": "stdout",
          "text": [
            "['dog', 'cat', 'dog', 'goldfish', 'cat', 'rabbit', 'cat']\n",
            "['dog', 'dog', 'goldfish', 'rabbit']\n"
          ]
        }
      ]
    },
    {
      "cell_type": "code",
      "source": [
        "responses = {}\n",
        "\n",
        "polling_active = True\n",
        "while polling_active:\n",
        "\n",
        "  name = input(\"\\nWhat is your name? \")\n",
        "  response = input(\"Which mountain would you like to climb someday? \")\n",
        "  responses[name] = response\n",
        "  repeat = input(\"Would you like to let another person respond? (yes/ no) \")\n",
        "  if repeat == 'no':\n",
        "      polling_active = False\n",
        "\n",
        "print(\"\\n--- Poll Results ---\")\n",
        "for name, response in responses.items():\n",
        "  print(name + \" would like to climb \" + response + \".\")"
      ],
      "metadata": {
        "colab": {
          "base_uri": "https://localhost:8080/"
        },
        "id": "TRqQDdLGoviZ",
        "outputId": "1c12a28f-f317-4be1-da22-b6af55ceb124"
      },
      "execution_count": null,
      "outputs": [
        {
          "output_type": "stream",
          "name": "stdout",
          "text": [
            "\n",
            "What is your name? Adam\n",
            "Which mountain would you like to climb someday? Kilamanjaro\n",
            "Would you like to let another person respond? (yes/ no) No\n",
            "\n",
            "What is your name? Adam\n",
            "Which mountain would you like to climb someday? Everest\n",
            "Would you like to let another person respond? (yes/ no) no\n",
            "\n",
            "--- Poll Results ---\n",
            "Adam would like to climb Everest.\n"
          ]
        }
      ]
    },
    {
      "cell_type": "markdown",
      "source": [
        "#Textbook Problems\n"
      ],
      "metadata": {
        "id": "5dEZQ034CyY_"
      }
    },
    {
      "cell_type": "code",
      "source": [
        "#7-1\n",
        "car = input(\"What type of car are you looking to buy: \")\n",
        "print(f'Let me see if I can find you a {car}')\n"
      ],
      "metadata": {
        "colab": {
          "base_uri": "https://localhost:8080/"
        },
        "id": "m1RbxB-BC5gi",
        "outputId": "21a06d54-f2fe-4439-dee7-23fe0d128f1e"
      },
      "execution_count": null,
      "outputs": [
        {
          "output_type": "stream",
          "name": "stdout",
          "text": [
            "What type of car are you looking to buy: Subaru\n",
            "Let me see if I can find you a Subaru\n"
          ]
        }
      ]
    },
    {
      "cell_type": "code",
      "source": [
        "#7-3\n",
        "number = int(input(\"Input a number: \"))\n",
        "if number % 10 == 0:\n",
        "  print(\"You're number is a multiple of 10\")\n",
        "else:\n",
        "  print(\"You're number is not a multiple of 10\")\n",
        "\n"
      ],
      "metadata": {
        "colab": {
          "base_uri": "https://localhost:8080/"
        },
        "id": "F6-XEPjRDEQQ",
        "outputId": "3626881f-8734-470b-a43e-644c8ce80949"
      },
      "execution_count": null,
      "outputs": [
        {
          "output_type": "stream",
          "name": "stdout",
          "text": [
            "Input a number: 10\n",
            "You're number is a multiple of 10\n"
          ]
        }
      ]
    },
    {
      "cell_type": "code",
      "source": [
        "#7-5\n",
        "while True:\n",
        "  print(\"Welcome to the theatre :3\")\n",
        "  try:\n",
        "    age = int(input(\"How old are you:  \"))\n",
        "  except:\n",
        "    break\n",
        "  finally:\n",
        "    if age < 3:\n",
        "      print(\"You can go in for free\")\n",
        "    elif age > 3 and age <= 12:\n",
        "      print(\"That'll be $10\")\n",
        "    elif age > 12:\n",
        "      print(\"That'll be $15\")\n",
        "    else:\n",
        "      break\n"
      ],
      "metadata": {
        "colab": {
          "base_uri": "https://localhost:8080/"
        },
        "id": "2CKtIq-3DmtT",
        "outputId": "b14f1ec1-cf1c-4c42-a112-7267a10728a4"
      },
      "execution_count": null,
      "outputs": [
        {
          "output_type": "stream",
          "name": "stdout",
          "text": [
            "Welcome to the theatre :3\n",
            "How old are you:  12\n",
            "That'll be $10\n",
            "Welcome to the theatre :3\n",
            "How old are you:  33\n",
            "That'll be $15\n",
            "Welcome to the theatre :3\n",
            "How old are you:  500\n",
            "That'll be $15\n",
            "Welcome to the theatre :3\n",
            "How old are you:  pie\n",
            "That'll be $15\n"
          ]
        }
      ]
    },
    {
      "cell_type": "code",
      "source": [
        "#this one is 7-6\n",
        "print(\"Welcome to the low quality jail\")\n",
        "print(\"There is a 9 number numpad in front of you\")\n",
        "\n",
        "tries = 0\n",
        "flag = True\n",
        "while tries < 10 and flag:\n",
        "  action = input(\"What do you do: \")\n",
        "  if isinstance(action,int):\n",
        "      if int(action) in range(0,10):\n",
        "        continue\n",
        "  elif action == \"flag\":\n",
        "    flag = False\n",
        "  else:\n",
        "    break"
      ],
      "metadata": {
        "colab": {
          "base_uri": "https://localhost:8080/"
        },
        "id": "PuwrhNv-JhS9",
        "outputId": "196653cc-b968-4aef-ae19-4f7b2643e7f0"
      },
      "execution_count": null,
      "outputs": [
        {
          "name": "stdout",
          "output_type": "stream",
          "text": [
            "Welcome to the low quality jail\n",
            "There is a 9 number numpad in front of you\n",
            "What do you do: flag\n"
          ]
        }
      ]
    },
    {
      "cell_type": "code",
      "source": [
        "#7-8\n",
        "orders  = [\"tuna sandwich\",\"italian sub\",\"teriyaki chicken\",\"meatball sub\"]\n",
        "finished = []\n",
        "while orders:\n",
        "  finished.append(orders.pop())\n",
        "\n",
        "print(orders)\n",
        "for order in finished:\n",
        "  print(f'Your {order} is ready')"
      ],
      "metadata": {
        "colab": {
          "base_uri": "https://localhost:8080/"
        },
        "id": "A-rD9W5fK_g3",
        "outputId": "ec5176d3-e026-465c-abcc-886460dde365"
      },
      "execution_count": null,
      "outputs": [
        {
          "output_type": "stream",
          "name": "stdout",
          "text": [
            "[]\n",
            "Your meatball sub is ready\n",
            "Your teriyaki chicken is ready\n",
            "Your italian sub is ready\n",
            "Your tuna sandwich is ready\n"
          ]
        }
      ]
    },
    {
      "cell_type": "code",
      "source": [
        "# Calculator\n",
        "operators = [\"+\",\"-\",\"*\",\"/\"]\n",
        "commands = [\"exit\"]\n",
        "total = 0\n",
        "while True:\n",
        "  print(total)\n",
        "  num_inp = input(\"enter a number\\n>> \")\n",
        "  if num_inp == \"exit\":\n",
        "    break\n",
        "  try:\n",
        "    int(num_inp)\n",
        "  except:\n",
        "    pass\n",
        "  finally:\n",
        "    sign_inp = input(\"enter a sign\\n>> \")\n",
        "    if sign_inp in operators:\n",
        "      if sign_inp == \"+\":\n",
        "        total = total + int(num_inp)\n",
        "      elif sign_inp == \"-\":\n",
        "        total = total - int(num_inp)\n",
        "      elif sign_inp == \"*\":\n",
        "        total = total * int(num_inp)\n",
        "      elif sign_inp == \"/\" and num_inp != 0:\n",
        "        total = total // int(num_inp)\n",
        "      print(total)\n",
        "\n"
      ],
      "metadata": {
        "id": "qUIgbf6JL1bg",
        "colab": {
          "base_uri": "https://localhost:8080/"
        },
        "outputId": "a4a5e891-cce2-4638-d8ba-2cc67d1d4f98"
      },
      "execution_count": 3,
      "outputs": [
        {
          "name": "stdout",
          "output_type": "stream",
          "text": [
            "0\n",
            "enter a number\n",
            ">> 5\n",
            "enter a sign\n",
            ">> +\n",
            "5\n",
            "5\n",
            "enter a number\n",
            ">> 10\n",
            "enter a sign\n",
            ">> /\n",
            "0\n",
            "0\n",
            "enter a number\n",
            ">> 5\n",
            "enter a sign\n",
            ">> +\n",
            "5\n",
            "5\n",
            "enter a number\n",
            ">> exit\n"
          ]
        }
      ]
    },
    {
      "cell_type": "code",
      "source": [],
      "metadata": {
        "id": "KYNcbiHPTVTh"
      },
      "execution_count": null,
      "outputs": []
    }
  ]
}