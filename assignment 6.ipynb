{
  "nbformat": 4,
  "nbformat_minor": 0,
  "metadata": {
    "colab": {
      "provenance": [],
      "authorship_tag": "ABX9TyPmEydeeJablLsZTkVu/BJ+",
      "include_colab_link": true
    },
    "kernelspec": {
      "name": "python3",
      "display_name": "Python 3"
    },
    "language_info": {
      "name": "python"
    }
  },
  "cells": [
    {
      "cell_type": "markdown",
      "metadata": {
        "id": "view-in-github",
        "colab_type": "text"
      },
      "source": [
        "<a href=\"https://colab.research.google.com/github/adamBabieradzki/CSC221_ababi004/blob/main/assignment%206.ipynb\" target=\"_parent\"><img src=\"https://colab.research.google.com/assets/colab-badge.svg\" alt=\"Open In Colab\"/></a>"
      ]
    },
    {
      "cell_type": "code",
      "execution_count": null,
      "metadata": {
        "id": "6cyHaYG2db3J"
      },
      "outputs": [],
      "source": [
        "car = 'subaru'\n",
        "print('I predict the car is a subaru')\n",
        "print(car == 'subaru')\n",
        "\n",
        "print('I predict the car is a audi')\n",
        "print(car == 'audi')\n",
        "\n",
        "print('I predict the letter b is in car')\n",
        "print('b' in car)\n",
        "\n",
        "print('I predict the car is not a number')\n",
        "print(type(car) == (int or float))\n",
        "\n",
        "print('I predict the car is a string')\n",
        "print(type(car) == str)\n",
        "guess = 'predict'\n",
        "\n",
        "print('I predict that this word contains dict but is not a dict')\n",
        "print('dict' in guess)\n",
        "print(type(guess) == dict)\n",
        "\n",
        "donkey = 'donkey'\n",
        "this = donkey\n",
        "print('I predict that this is a donkey')\n",
        "print(this is donkey)\n",
        "\n",
        "class Car:\n",
        "  def __init__(self,brand):\n",
        "    self.brand = brand\n",
        "car1 = Car('subaru')\n",
        "car2 = Car('audi')\n",
        "car3 = Car('subaru')\n",
        "\n",
        "print('I predict that car1 is car3 but not car2')\n",
        "print(car1 is car3)\n",
        "print(car1 is car2)"
      ]
    },
    {
      "cell_type": "code",
      "source": [
        "print('a' == 'b')\n",
        "print('joe' == 'joe')\n",
        "\n",
        "print('hello' == 'HELLO'.lower())\n",
        "print('WORLD' == 'WORLD'.lower())\n",
        "\n",
        "print(('a' and 'b') == ('b' and 'a'))\n",
        "print(('a' and 'b') == ('a' and 'b'))\n",
        "print(type('adam') == (str or int))\n",
        "\n",
        "fruits = ['apple','bannana','lemon']\n",
        "tools = ['hammer','wrench','screwdriver']\n",
        "\n",
        "print('bannana' not in (fruits or tools))\n",
        "print('audi' not in (fruits or tools))\n",
        "print(fruits in tools)"
      ],
      "metadata": {
        "colab": {
          "base_uri": "https://localhost:8080/"
        },
        "id": "RNVNnnxiedwx",
        "outputId": "0c5757b1-0ef7-4de5-9ae0-32cd878d6ec6"
      },
      "execution_count": null,
      "outputs": [
        {
          "output_type": "stream",
          "name": "stdout",
          "text": [
            "False\n",
            "True\n",
            "True\n",
            "False\n",
            "False\n",
            "True\n",
            "True\n",
            "False\n",
            "True\n",
            "False\n"
          ]
        }
      ]
    },
    {
      "cell_type": "code",
      "source": [
        "alien_color = \"red\"\n",
        "if alien_color == \"green\": print(\"you won 5 points\")\n",
        "alien_color = \"green\"\n",
        "if alien_color == \"green\": print(\"you won 5 points\")\n",
        "\n",
        "if alien_color == \"green\":print('you win 5 points')\n",
        "else: print('you win 10 points')\n",
        "\n",
        "alien_color = \"red\"\n",
        "if alien_color == \"green\":print('you win 5 points')\n",
        "else: print('you win 10 points')"
      ],
      "metadata": {
        "colab": {
          "base_uri": "https://localhost:8080/"
        },
        "id": "pK6k0ex9jljn",
        "outputId": "9e6d1da5-ff26-40f3-fd32-c75ad3feefb7"
      },
      "execution_count": null,
      "outputs": [
        {
          "output_type": "stream",
          "name": "stdout",
          "text": [
            "you won 5 points\n",
            "you win 5 points\n",
            "you win 10 points\n"
          ]
        }
      ]
    },
    {
      "cell_type": "code",
      "source": [
        "age = 4\n",
        "\n",
        "if age < 2:print(\"you're a baby\")\n",
        "elif age >= 2 and age < 4:print(\"you're a toddler\")\n",
        "elif age >= 4 and age < 13:print(\"you're a child\")\n",
        "elif age >= 13 and age < 18:print(\"you're an teenager\")\n",
        "elif age >= 18 and age < 65:print(\"you're an adult\")\n",
        "elif age >= 65: print(\"you're a elder\")"
      ],
      "metadata": {
        "colab": {
          "base_uri": "https://localhost:8080/"
        },
        "id": "f8SvTsKpkUhL",
        "outputId": "daf39d4e-298f-42dc-f452-dbfa101e134a"
      },
      "execution_count": null,
      "outputs": [
        {
          "output_type": "stream",
          "name": "stdout",
          "text": [
            "you're a child\n"
          ]
        }
      ]
    },
    {
      "cell_type": "code",
      "source": [
        "#done with 5-12\n"
      ],
      "metadata": {
        "id": "paxa71bKngkn"
      },
      "execution_count": 1,
      "outputs": []
    },
    {
      "cell_type": "code",
      "source": [],
      "metadata": {
        "id": "6NI557jGosAb"
      },
      "execution_count": null,
      "outputs": []
    }
  ]
}