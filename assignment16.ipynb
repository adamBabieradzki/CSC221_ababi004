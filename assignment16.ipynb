{
  "nbformat": 4,
  "nbformat_minor": 0,
  "metadata": {
    "colab": {
      "provenance": [],
      "authorship_tag": "ABX9TyOxoLghJMhcgd9Jivd6IwVY",
      "include_colab_link": true
    },
    "kernelspec": {
      "name": "python3",
      "display_name": "Python 3"
    },
    "language_info": {
      "name": "python"
    }
  },
  "cells": [
    {
      "cell_type": "markdown",
      "metadata": {
        "id": "view-in-github",
        "colab_type": "text"
      },
      "source": [
        "<a href=\"https://colab.research.google.com/github/adamBabieradzki/CSC221_ababi004/blob/main/assignment16.ipynb\" target=\"_parent\"><img src=\"https://colab.research.google.com/assets/colab-badge.svg\" alt=\"Open In Colab\"/></a>"
      ]
    },
    {
      "cell_type": "code",
      "execution_count": null,
      "metadata": {
        "colab": {
          "base_uri": "https://localhost:8080/"
        },
        "id": "yMQIeXc6AXrI",
        "outputId": "454b9184-bf4f-46c1-aee8-9f2b5ce35653"
      },
      "outputs": [
        {
          "output_type": "stream",
          "name": "stdout",
          "text": [
            "Hello World\n"
          ]
        }
      ],
      "source": [
        "#1-1 & 1-2\n",
        "#prints hello world\n",
        "\n",
        "#you're able to run python from the shell and add it to enviromental\n",
        "#programs by using the chmod -x \"python script\""
      ]
    },
    {
      "cell_type": "code",
      "source": [
        "#1-3\n",
        "\n",
        "42 #int\n",
        "#a whole positive or negative number\n",
        "4.2 #float\n",
        "#number with decimal point\n",
        "'fourty-two' #string\n",
        "#text can't do math on it\n",
        "True #bool\n",
        "#a data type that can either be true or false, can be used in logic\n",
        "#statements like if while etc.\n",
        "\n",
        "x = 42\n",
        "x: int = 42 # this : int does nothing, kinda like a comment\n",
        "\n",
        "#this chunk of code runs a loop 5 times that increases pv by 5% and prints\n",
        "#the result over a the 5 years using int and float, as well as a bool(the expression year <= n evaluates to either True or False)\n",
        "pv = 1000\n",
        "iyr = .05\n",
        "n = 5\n",
        "\n",
        "year = 1\n",
        "while year <= n:\n",
        "  pv = pv * (1+iyr)\n",
        "  print(f'{year:>3d} {pv:0.2f}')\n",
        "  year += 1"
      ],
      "metadata": {
        "colab": {
          "base_uri": "https://localhost:8080/"
        },
        "id": "sRB7YxsRAbxT",
        "outputId": "b3254adc-6e94-40c1-a02e-a59cdd8c1f68"
      },
      "execution_count": null,
      "outputs": [
        {
          "output_type": "stream",
          "name": "stdout",
          "text": [
            "  1 1050.00\n",
            "  2 1102.50\n",
            "  3 1157.62\n",
            "  4 1215.51\n",
            "  5 1276.28\n"
          ]
        }
      ]
    },
    {
      "cell_type": "code",
      "source": [
        "#1-4\n",
        "\n",
        "#New Operators\n",
        "3 // 2 # =1 truncating division(integer division)\n",
        "3 ** 2 # =9 exponents\n",
        "3 % 2 # =1 modulo\n",
        "\n",
        "#Functions\n",
        "abs(-1) #returns absolute\n",
        "divmod(2,3) # returns (2//3, 2%3)\n",
        "pow(1,2,3) # returns (1 ** 2) % 3\n",
        "round(.05,1) #returns 0, rounding is to the nearest even number\n",
        "\n",
        "#binary math\n",
        "# >> right shift\n",
        "# << left shift\n",
        "# x & y bitwise and\n",
        "#x | y bitwise or\n",
        "#x ^ y bitwise xor\n",
        "#~ bitwise neagtion\n",
        "\n",
        "\n",
        "c = 0b00001111\n",
        "a = 0b11110001\n",
        "\n",
        "print(bin(c ^ a))\n",
        "print(bin(c & a))\n",
        "print(c ^ a)\n",
        "a = -1\n",
        "\n",
        "#new comparators\n",
        "a = True\n",
        "b = True\n",
        "\n",
        "print(a^b)\n"
      ],
      "metadata": {
        "colab": {
          "base_uri": "https://localhost:8080/"
        },
        "id": "ssimxG6eB9l7",
        "outputId": "2fa3826d-ac08-4413-db61-2d3c4b8c547e"
      },
      "execution_count": 5,
      "outputs": [
        {
          "output_type": "stream",
          "name": "stdout",
          "text": [
            "0b11111110\n",
            "0b1\n",
            "254\n",
            "False\n"
          ]
        }
      ]
    },
    {
      "cell_type": "code",
      "source": [
        "#1-5\n",
        "#if statements will run a bunch of code if the statement after if returns True\n",
        "#else will run when if doesn't, can be removed if you want nothing to happen\n",
        "#elif will check a new condition after the if statement above it returns false\n",
        "#if: if: will check both ifs regardless if the 1st is true\n",
        "#if elif will check the first and then only check the elif if the 1st if returns false\n",
        "#inline if statement syntax [code to run on true] [if] [statement] [else] [code to run on false]\n",
        "\n",
        "#while [statement], each time the loop runs it will evaluate statement, if statement returns true the code below will run, else the loop will break\n",
        "#can insert continue or break statements to alter behavior of the loop\n",
        "\n"
      ],
      "metadata": {
        "id": "ocM3ntnnD248",
        "colab": {
          "base_uri": "https://localhost:8080/"
        },
        "outputId": "3c3ad49d-0d45-4c7a-8776-6f5b3e4a3f85"
      },
      "execution_count": 10,
      "outputs": [
        {
          "output_type": "stream",
          "name": "stdout",
          "text": [
            "this or that0\n",
            "do this\n",
            "do this\n",
            "do this\n",
            "3\n"
          ]
        }
      ]
    },
    {
      "cell_type": "code",
      "source": [
        "#1-6\n",
        "#many ways to create string ' \" ''\n",
        "#f'' strings let you run code in {}\n",
        "#many methods to strings like .len() .remove(n) .split()\n",
        "#strings can be iterated like a list of 1 character strings\n",
        "#ex \"hello\"[0] evaluates to h\n"
      ],
      "metadata": {
        "colab": {
          "base_uri": "https://localhost:8080/"
        },
        "id": "s-on3S5BokLX",
        "outputId": "8324761b-8192-4c40-88fe-c4719a073c80"
      },
      "execution_count": 11,
      "outputs": [
        {
          "output_type": "stream",
          "name": "stdout",
          "text": [
            "Content-type: text/html\n",
            "\n",
            "<h1> Hello World </h1>\n",
            "Clock <a href=\"http://www.python.org\">here</a>\n",
            "\n"
          ]
        }
      ]
    },
    {
      "cell_type": "code",
      "source": [
        "#1-7\n",
        "#opening files in python working director with either open() or with file open() statements\n",
        "#can read with .read() command\n",
        "#by default open is in read only mode, add 'w' into params to open in write only\n"
      ],
      "metadata": {
        "id": "-q4iIf5Jru4n"
      },
      "execution_count": null,
      "outputs": []
    },
    {
      "cell_type": "code",
      "source": [
        "#1-8\n",
        "#lists are [] collections of objects, they are ordered however and can contain duplicates\n",
        "#they are iterated using list1[obj] starting from 0 and going to n-1 where n is the number of objects in the list\n",
        "#methods of lists include .sort() .remove() .append() .insert() which let the user change the list\n",
        "#mutability is an important part of lists differenciating them from tuples\n",
        "#lists can be nested list2 = [[1,2],[3,4]]\n",
        "#list2[0][0] will pull the 0th element of 0th element, in this case 1\n",
        "#list2[1][0] will pull the 0th element of 1st element, in this case 3"
      ],
      "metadata": {
        "colab": {
          "base_uri": "https://localhost:8080/"
        },
        "id": "R80WO1Kssawl",
        "outputId": "d7b7f472-78a1-4514-b612-02dae4b95ab8"
      },
      "execution_count": 13,
      "outputs": [
        {
          "output_type": "stream",
          "name": "stdout",
          "text": [
            "3\n"
          ]
        }
      ]
    },
    {
      "cell_type": "code",
      "source": [
        "#1-9\n",
        "#tuples are simmilar to lists with the key differenceb eing that they cannot be changed after creation\n",
        "#tuples can be unpacked with tuple = (1,2)\n",
        "#a,b = tuple result: a = 1, b = 2\n",
        "#passing *args into a function causes *args to be stored as a tuple\n"
      ],
      "metadata": {
        "colab": {
          "base_uri": "https://localhost:8080/"
        },
        "id": "0cqAW66ltG9f",
        "outputId": "6ed507da-96a8-4543-d9a8-eefc4164b3c3"
      },
      "execution_count": 16,
      "outputs": [
        {
          "output_type": "stream",
          "name": "stdout",
          "text": [
            "(1, 2, 3, 4, 5)\n"
          ]
        }
      ]
    },
    {
      "cell_type": "code",
      "source": [
        "#1-10\n",
        "#sets are tuples with an additional quality, objects cannot repeat\n",
        "#ex passing {1,1,2} will return {1,2}, you can convert lists and tuples into sets using\n",
        "#set(obj) to return a set\n",
        "#can use operations on sets such as\n",
        "#union(|) : combination of sets {1,2} | {3,4} = {1,2,3,4}\n",
        "#intersect(&): items containted in both sets {1,2,3} & {1,2} = {1,2}\n",
        "#difference(-): items in a not in b: {1,2,3} - {2,3,4} = {1}\n",
        "#symetric difference(^) (a - b)  | (b - a) {1,2,3} - {2,3,4} = {1,4}"
      ],
      "metadata": {
        "colab": {
          "base_uri": "https://localhost:8080/"
        },
        "id": "NOgH6WN_t7wG",
        "outputId": "dfaf685b-95aa-4a04-c4fa-6e163335caa4"
      },
      "execution_count": 24,
      "outputs": [
        {
          "output_type": "execute_result",
          "data": {
            "text/plain": [
              "{1, 4}"
            ]
          },
          "metadata": {},
          "execution_count": 24
        }
      ]
    },
    {
      "cell_type": "code",
      "source": [
        "#1-11\n",
        "#dictionaries are lists with key's instead of an index, keys can be strings ints etc.\n",
        "#defining a dict\n",
        "#{key : value,key2:value2}\n",
        "#adding a value to a dict\n",
        "#dict[key] = value\n",
        "#.key() reutrn keys, .value() returns values, .items() returns (key,value), (key2,value2)"
      ],
      "metadata": {
        "id": "PIfTZOtUu3ZV"
      },
      "execution_count": null,
      "outputs": []
    },
    {
      "cell_type": "code",
      "source": [
        "#1-12\n",
        "#for loops take an iterable object like [1,2,3] and will execute the code with an iteration of the iterable object untill there is nothing left\n",
        "#for example for i in [1,2,3]: print(i) will run 3 times, print(1) print(2) print(3)\n",
        "#can run without i in code, ex print(\"hello\") would return print(\"hello\") print(\"hello\") print(\"hello\")\n",
        "#can iterate through list, tuple, set\n",
        "#can iterate trhough dict using .keys, .values, or .items()\n"
      ],
      "metadata": {
        "id": "99pzg61kwtFZ"
      },
      "execution_count": 26,
      "outputs": []
    },
    {
      "cell_type": "code",
      "source": [
        "#1-13\n",
        "#functions are a named object that runs some code when called: can take inputs like x and y\n",
        "#ex def add(x,y): return x + y\n",
        "#or no inputs def hello(): print(\"hi\")\n",
        "#or *args input def add(*args): which inputs a tuple named args for all arguments\n",
        "#or x, y, *args, where the first 2 arguments are stored in x and y and the remaining are stored in args\n",
        "#can also use **kwargs which takes keyword input\n",
        "#ex def p_kv(**kwargs): print(kwargs.keys())\n",
        "#kwargs is a dictionary of key = value arguemnts"
      ],
      "metadata": {
        "colab": {
          "base_uri": "https://localhost:8080/"
        },
        "id": "4M53eaPRxb2E",
        "outputId": "1dab6e82-2f04-4de9-fdc9-a131b330862b"
      },
      "execution_count": 27,
      "outputs": [
        {
          "output_type": "execute_result",
          "data": {
            "text/plain": [
              "10"
            ]
          },
          "metadata": {},
          "execution_count": 27
        }
      ]
    },
    {
      "cell_type": "code",
      "source": [
        "#1-14\n",
        "#exceptions are error messages that are returned when python is written incorrectly or behaves unexpectadly\n",
        "#exceptions can be thrown with raise [error] or assert[statement]\n",
        "#error handling can be done with try: except: finally: else: statements"
      ],
      "metadata": {
        "id": "nOSgisOvyFZr"
      },
      "execution_count": null,
      "outputs": []
    },
    {
      "cell_type": "code",
      "source": [
        "#1-15\n",
        "#can exit with raise systemExit()\n",
        "#add a message in () to give an error\n"
      ],
      "metadata": {
        "id": "ZRGv2wllzMZQ"
      },
      "execution_count": null,
      "outputs": []
    },
    {
      "cell_type": "code",
      "source": [
        "#1-16\n",
        "#classes are simmilar to functions with 2 key feateres, can create copies and store data in copies\n",
        "#can execute multiple methods in a class\n",
        "#classes have special dunder functions like __init__, __repr__, __add__, __sub__ etc which lets you modify their behavior\n",
        "#classes can inherit with class A: stuff\n",
        "#class B(A):stuff\n",
        "#b inherits a's stuff"
      ],
      "metadata": {
        "id": "iDNGSM3izbQz"
      },
      "execution_count": null,
      "outputs": []
    },
    {
      "cell_type": "code",
      "source": [
        "#1-17\n",
        "#import statement can be used to import modules like math, statistics, numpy, pandas, tkinter etc\n",
        "#can also import files in working directory\n",
        "#import as [nickname]\n",
        "#for example lets say theres a program called joe with the code a = 2\n",
        "#import joe as j\n",
        "#print(j.a)\n",
        "#output: 2\n",
        "#can also import specific classes from files by using\n",
        "#from [module] import [class]\n",
        "#from tkinter import Tk()\n",
        "#do not need to use tkinter.Tk(), just use Tk()\n"
      ],
      "metadata": {
        "id": "RvPVvHXR0GrU"
      },
      "execution_count": null,
      "outputs": []
    },
    {
      "cell_type": "code",
      "source": [
        "#1-18\n",
        "#using __name__==\"__main__\" can let you write a script that runs when a program is not imported"
      ],
      "metadata": {
        "id": "dA6O3kCv0nUm"
      },
      "execution_count": null,
      "outputs": []
    },
    {
      "cell_type": "code",
      "source": [
        "#1-19\n",
        "#multiple python files can be packaged into a single package made up of multiple files\n",
        "#this can cause issues when importing between in package files, could use from . import [package]\n",
        "#will from . import * flatten the whole package and cause chaos?"
      ],
      "metadata": {
        "id": "w-W23Irr1E7A"
      },
      "execution_count": null,
      "outputs": []
    },
    {
      "cell_type": "code",
      "source": [
        "#1-20\n",
        "#using pip in cmd or bash one can install packages from the internet like pandas and matplotlib"
      ],
      "metadata": {
        "id": "CkwsuwK41Vbi"
      },
      "execution_count": null,
      "outputs": []
    }
  ]
}